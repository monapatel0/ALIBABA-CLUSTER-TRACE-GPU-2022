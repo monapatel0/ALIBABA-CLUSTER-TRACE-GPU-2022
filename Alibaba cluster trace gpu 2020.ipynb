{
 "cells": [
  {
   "cell_type": "code",
   "execution_count": 1,
   "metadata": {
    "id": "JzuI3wBdK7M5"
   },
   "outputs": [],
   "source": [
    "import pandas as pnd\n",
    "import numpy as np\n",
    "from sklearn.linear_model import LinearRegression\n",
    "from sklearn.metrics import mean_squared_error\n",
    "from sklearn.metrics import r2_score\n",
    "import matplotlib.pyplot as plt\n"
   ]
  },
  {
   "cell_type": "code",
   "execution_count": 2,
   "metadata": {
    "id": "L4NoXnn5Oqv2"
   },
   "outputs": [],
   "source": [
    "df=pnd.read_csv(\"Analysis_Dataset.csv\")"
   ]
  },
  {
   "cell_type": "code",
   "execution_count": 3,
   "metadata": {
    "colab": {
     "base_uri": "https://localhost:8080/",
     "height": 488
    },
    "id": "AdYrqlE5O6Zf",
    "outputId": "c7a21fdd-95c4-46a3-c740-8f342535580e"
   },
   "outputs": [
    {
     "data": {
      "text/html": [
       "<div>\n",
       "<style scoped>\n",
       "    .dataframe tbody tr th:only-of-type {\n",
       "        vertical-align: middle;\n",
       "    }\n",
       "\n",
       "    .dataframe tbody tr th {\n",
       "        vertical-align: top;\n",
       "    }\n",
       "\n",
       "    .dataframe thead th {\n",
       "        text-align: right;\n",
       "    }\n",
       "</style>\n",
       "<table border=\"1\" class=\"dataframe\">\n",
       "  <thead>\n",
       "    <tr style=\"text-align: right;\">\n",
       "      <th></th>\n",
       "      <th>job_name</th>\n",
       "      <th>task_name</th>\n",
       "      <th>inst_name</th>\n",
       "      <th>worker_name</th>\n",
       "      <th>inst_id</th>\n",
       "      <th>status</th>\n",
       "      <th>start_time</th>\n",
       "      <th>end_time</th>\n",
       "      <th>machine</th>\n",
       "    </tr>\n",
       "  </thead>\n",
       "  <tbody>\n",
       "    <tr>\n",
       "      <th>0</th>\n",
       "      <td>54670e2998350a9f0e4868d5</td>\n",
       "      <td>worker</td>\n",
       "      <td>c47ee192deea8c5aa87d8d7c2e02120cd03f75304a69dd...</td>\n",
       "      <td>05b1590648df3f4c6deea2496bbbefd4d3ae93347669f7...</td>\n",
       "      <td>68889727c2257f702108d185e5eed342a39807a2893d4b...</td>\n",
       "      <td>Terminated</td>\n",
       "      <td>3272995.0</td>\n",
       "      <td>3273065.0</td>\n",
       "      <td>165261853e188ca69c4fbcdf</td>\n",
       "    </tr>\n",
       "    <tr>\n",
       "      <th>1</th>\n",
       "      <td>54670e2998350a9f0e4868d5</td>\n",
       "      <td>worker</td>\n",
       "      <td>92759a73039692b2d3e0929cadf55f5b07b40d6582c36f...</td>\n",
       "      <td>cbc1bc591c53301bceafa44dc626288fd92d2fc5dca438...</td>\n",
       "      <td>68889727c2257f702108d185e5eed342a39807a2893d4b...</td>\n",
       "      <td>Terminated</td>\n",
       "      <td>3272995.0</td>\n",
       "      <td>3273056.0</td>\n",
       "      <td>31dbf829549b10917e7193a6</td>\n",
       "    </tr>\n",
       "    <tr>\n",
       "      <th>2</th>\n",
       "      <td>54670e2998350a9f0e4868d5</td>\n",
       "      <td>worker</td>\n",
       "      <td>b3e42abde4c35da06ff4746802b82678b1bf56b28efaa1...</td>\n",
       "      <td>09d41bf627188adc004b2db7c0a47578325952cc3340af...</td>\n",
       "      <td>68889727c2257f702108d185e5eed342a39807a2893d4b...</td>\n",
       "      <td>Terminated</td>\n",
       "      <td>3272995.0</td>\n",
       "      <td>3273067.0</td>\n",
       "      <td>31dbf829549b10917e7193a6</td>\n",
       "    </tr>\n",
       "    <tr>\n",
       "      <th>3</th>\n",
       "      <td>54670e2998350a9f0e4868d5</td>\n",
       "      <td>worker</td>\n",
       "      <td>d0f2e1f76ff463bcd08302370cc2f9bf0ec1333a3b25e3...</td>\n",
       "      <td>1a631e8be3fd787c2891c15b9e9bac6df4f177efc9ec7b...</td>\n",
       "      <td>68889727c2257f702108d185e5eed342a39807a2893d4b...</td>\n",
       "      <td>Terminated</td>\n",
       "      <td>3272995.0</td>\n",
       "      <td>3273058.0</td>\n",
       "      <td>3765d45e2eca88d1d1da7cef</td>\n",
       "    </tr>\n",
       "    <tr>\n",
       "      <th>4</th>\n",
       "      <td>54670e2998350a9f0e4868d5</td>\n",
       "      <td>worker</td>\n",
       "      <td>0243b1305fd38f228634b23f69de5ed5ce801360eeffdc...</td>\n",
       "      <td>59aea81c00cccb5cd01ca2f7f72877d6bc73b427821986...</td>\n",
       "      <td>68889727c2257f702108d185e5eed342a39807a2893d4b...</td>\n",
       "      <td>Terminated</td>\n",
       "      <td>3272995.0</td>\n",
       "      <td>3273059.0</td>\n",
       "      <td>c0d6760f6248ea8260e36fa5</td>\n",
       "    </tr>\n",
       "    <tr>\n",
       "      <th>...</th>\n",
       "      <td>...</td>\n",
       "      <td>...</td>\n",
       "      <td>...</td>\n",
       "      <td>...</td>\n",
       "      <td>...</td>\n",
       "      <td>...</td>\n",
       "      <td>...</td>\n",
       "      <td>...</td>\n",
       "      <td>...</td>\n",
       "    </tr>\n",
       "    <tr>\n",
       "      <th>994</th>\n",
       "      <td>259758d8ce7dab19c47c1cf9</td>\n",
       "      <td>worker</td>\n",
       "      <td>d3c11b862634e6185c22d7c89fc08f667527b39779cb41...</td>\n",
       "      <td>9f7742973dbe2b8d2b6bf1375abfd4e073f45450638fdc...</td>\n",
       "      <td>b8dcabc5ed4723ef2321da505269e781ade92fd414fcc4...</td>\n",
       "      <td>Terminated</td>\n",
       "      <td>3547830.0</td>\n",
       "      <td>3550678.0</td>\n",
       "      <td>b2897296e9402cce1ac00e73</td>\n",
       "    </tr>\n",
       "    <tr>\n",
       "      <th>995</th>\n",
       "      <td>259758d8ce7dab19c47c1cf9</td>\n",
       "      <td>worker</td>\n",
       "      <td>a6812a028da978a3ab462f2ca15080b5c91799eb932cf2...</td>\n",
       "      <td>6909a44a6bbe9771cc32842680dca931c924aa1b48ae6c...</td>\n",
       "      <td>b8dcabc5ed4723ef2321da505269e781ade92fd414fcc4...</td>\n",
       "      <td>Terminated</td>\n",
       "      <td>3547831.0</td>\n",
       "      <td>3550928.0</td>\n",
       "      <td>64ce8199950afc63fd21fe96</td>\n",
       "    </tr>\n",
       "    <tr>\n",
       "      <th>996</th>\n",
       "      <td>259758d8ce7dab19c47c1cf9</td>\n",
       "      <td>worker</td>\n",
       "      <td>02e216e963305f5bf68e992721e2cf95d927bab59b1c04...</td>\n",
       "      <td>576c557d87df01c2a8d8533ecc7a067aa484710e8a23bb...</td>\n",
       "      <td>b8dcabc5ed4723ef2321da505269e781ade92fd414fcc4...</td>\n",
       "      <td>Terminated</td>\n",
       "      <td>3547832.0</td>\n",
       "      <td>3550654.0</td>\n",
       "      <td>6e5816c3b9334f11d9e215b1</td>\n",
       "    </tr>\n",
       "    <tr>\n",
       "      <th>997</th>\n",
       "      <td>259758d8ce7dab19c47c1cf9</td>\n",
       "      <td>worker</td>\n",
       "      <td>5f679bd45fd663ebe3f425102bff77290e9700765b8266...</td>\n",
       "      <td>1cb644ae688049b36de4187db4f3cc6532a90bbdfabb35...</td>\n",
       "      <td>b8dcabc5ed4723ef2321da505269e781ade92fd414fcc4...</td>\n",
       "      <td>Terminated</td>\n",
       "      <td>3547831.0</td>\n",
       "      <td>3550743.0</td>\n",
       "      <td>c3a67200eaebd3d87534419d</td>\n",
       "    </tr>\n",
       "    <tr>\n",
       "      <th>998</th>\n",
       "      <td>259758d8ce7dab19c47c1cf9</td>\n",
       "      <td>worker</td>\n",
       "      <td>166a8c34340bc933b112ae369c0bcb9ea43d0a8effb803...</td>\n",
       "      <td>ba7440e699693c0cf3f4f4cfe16e195a95c3837065d81a...</td>\n",
       "      <td>b8dcabc5ed4723ef2321da505269e781ade92fd414fcc4...</td>\n",
       "      <td>Terminated</td>\n",
       "      <td>3547832.0</td>\n",
       "      <td>3550809.0</td>\n",
       "      <td>e884aa64a6e22a1779f6f410</td>\n",
       "    </tr>\n",
       "  </tbody>\n",
       "</table>\n",
       "<p>999 rows × 9 columns</p>\n",
       "</div>"
      ],
      "text/plain": [
       "                     job_name task_name  \\\n",
       "0    54670e2998350a9f0e4868d5    worker   \n",
       "1    54670e2998350a9f0e4868d5    worker   \n",
       "2    54670e2998350a9f0e4868d5    worker   \n",
       "3    54670e2998350a9f0e4868d5    worker   \n",
       "4    54670e2998350a9f0e4868d5    worker   \n",
       "..                        ...       ...   \n",
       "994  259758d8ce7dab19c47c1cf9    worker   \n",
       "995  259758d8ce7dab19c47c1cf9    worker   \n",
       "996  259758d8ce7dab19c47c1cf9    worker   \n",
       "997  259758d8ce7dab19c47c1cf9    worker   \n",
       "998  259758d8ce7dab19c47c1cf9    worker   \n",
       "\n",
       "                                             inst_name  \\\n",
       "0    c47ee192deea8c5aa87d8d7c2e02120cd03f75304a69dd...   \n",
       "1    92759a73039692b2d3e0929cadf55f5b07b40d6582c36f...   \n",
       "2    b3e42abde4c35da06ff4746802b82678b1bf56b28efaa1...   \n",
       "3    d0f2e1f76ff463bcd08302370cc2f9bf0ec1333a3b25e3...   \n",
       "4    0243b1305fd38f228634b23f69de5ed5ce801360eeffdc...   \n",
       "..                                                 ...   \n",
       "994  d3c11b862634e6185c22d7c89fc08f667527b39779cb41...   \n",
       "995  a6812a028da978a3ab462f2ca15080b5c91799eb932cf2...   \n",
       "996  02e216e963305f5bf68e992721e2cf95d927bab59b1c04...   \n",
       "997  5f679bd45fd663ebe3f425102bff77290e9700765b8266...   \n",
       "998  166a8c34340bc933b112ae369c0bcb9ea43d0a8effb803...   \n",
       "\n",
       "                                           worker_name  \\\n",
       "0    05b1590648df3f4c6deea2496bbbefd4d3ae93347669f7...   \n",
       "1    cbc1bc591c53301bceafa44dc626288fd92d2fc5dca438...   \n",
       "2    09d41bf627188adc004b2db7c0a47578325952cc3340af...   \n",
       "3    1a631e8be3fd787c2891c15b9e9bac6df4f177efc9ec7b...   \n",
       "4    59aea81c00cccb5cd01ca2f7f72877d6bc73b427821986...   \n",
       "..                                                 ...   \n",
       "994  9f7742973dbe2b8d2b6bf1375abfd4e073f45450638fdc...   \n",
       "995  6909a44a6bbe9771cc32842680dca931c924aa1b48ae6c...   \n",
       "996  576c557d87df01c2a8d8533ecc7a067aa484710e8a23bb...   \n",
       "997  1cb644ae688049b36de4187db4f3cc6532a90bbdfabb35...   \n",
       "998  ba7440e699693c0cf3f4f4cfe16e195a95c3837065d81a...   \n",
       "\n",
       "                                               inst_id      status  \\\n",
       "0    68889727c2257f702108d185e5eed342a39807a2893d4b...  Terminated   \n",
       "1    68889727c2257f702108d185e5eed342a39807a2893d4b...  Terminated   \n",
       "2    68889727c2257f702108d185e5eed342a39807a2893d4b...  Terminated   \n",
       "3    68889727c2257f702108d185e5eed342a39807a2893d4b...  Terminated   \n",
       "4    68889727c2257f702108d185e5eed342a39807a2893d4b...  Terminated   \n",
       "..                                                 ...         ...   \n",
       "994  b8dcabc5ed4723ef2321da505269e781ade92fd414fcc4...  Terminated   \n",
       "995  b8dcabc5ed4723ef2321da505269e781ade92fd414fcc4...  Terminated   \n",
       "996  b8dcabc5ed4723ef2321da505269e781ade92fd414fcc4...  Terminated   \n",
       "997  b8dcabc5ed4723ef2321da505269e781ade92fd414fcc4...  Terminated   \n",
       "998  b8dcabc5ed4723ef2321da505269e781ade92fd414fcc4...  Terminated   \n",
       "\n",
       "     start_time   end_time                   machine  \n",
       "0     3272995.0  3273065.0  165261853e188ca69c4fbcdf  \n",
       "1     3272995.0  3273056.0  31dbf829549b10917e7193a6  \n",
       "2     3272995.0  3273067.0  31dbf829549b10917e7193a6  \n",
       "3     3272995.0  3273058.0  3765d45e2eca88d1d1da7cef  \n",
       "4     3272995.0  3273059.0  c0d6760f6248ea8260e36fa5  \n",
       "..          ...        ...                       ...  \n",
       "994   3547830.0  3550678.0  b2897296e9402cce1ac00e73  \n",
       "995   3547831.0  3550928.0  64ce8199950afc63fd21fe96  \n",
       "996   3547832.0  3550654.0  6e5816c3b9334f11d9e215b1  \n",
       "997   3547831.0  3550743.0  c3a67200eaebd3d87534419d  \n",
       "998   3547832.0  3550809.0  e884aa64a6e22a1779f6f410  \n",
       "\n",
       "[999 rows x 9 columns]"
      ]
     },
     "execution_count": 3,
     "metadata": {},
     "output_type": "execute_result"
    }
   ],
   "source": [
    "df"
   ]
  },
  {
   "cell_type": "markdown",
   "metadata": {
    "id": "W8MxN0Cwqrve"
   },
   "source": [
    "Descriptive analysis"
   ]
  },
  {
   "cell_type": "code",
   "execution_count": 4,
   "metadata": {
    "colab": {
     "base_uri": "https://localhost:8080/",
     "height": 300
    },
    "id": "0hNRhshwO7ab",
    "outputId": "b3cd49b0-a637-46cb-8b4a-28b8bbb792cc"
   },
   "outputs": [
    {
     "data": {
      "text/html": [
       "<div>\n",
       "<style scoped>\n",
       "    .dataframe tbody tr th:only-of-type {\n",
       "        vertical-align: middle;\n",
       "    }\n",
       "\n",
       "    .dataframe tbody tr th {\n",
       "        vertical-align: top;\n",
       "    }\n",
       "\n",
       "    .dataframe thead th {\n",
       "        text-align: right;\n",
       "    }\n",
       "</style>\n",
       "<table border=\"1\" class=\"dataframe\">\n",
       "  <thead>\n",
       "    <tr style=\"text-align: right;\">\n",
       "      <th></th>\n",
       "      <th>start_time</th>\n",
       "      <th>end_time</th>\n",
       "    </tr>\n",
       "  </thead>\n",
       "  <tbody>\n",
       "    <tr>\n",
       "      <th>count</th>\n",
       "      <td>9.660000e+02</td>\n",
       "      <td>9.850000e+02</td>\n",
       "    </tr>\n",
       "    <tr>\n",
       "      <th>mean</th>\n",
       "      <td>2.528277e+06</td>\n",
       "      <td>2.558755e+06</td>\n",
       "    </tr>\n",
       "    <tr>\n",
       "      <th>std</th>\n",
       "      <td>9.115939e+05</td>\n",
       "      <td>9.204741e+05</td>\n",
       "    </tr>\n",
       "    <tr>\n",
       "      <th>min</th>\n",
       "      <td>1.440387e+06</td>\n",
       "      <td>1.440410e+06</td>\n",
       "    </tr>\n",
       "    <tr>\n",
       "      <th>25%</th>\n",
       "      <td>1.457995e+06</td>\n",
       "      <td>1.459302e+06</td>\n",
       "    </tr>\n",
       "    <tr>\n",
       "      <th>50%</th>\n",
       "      <td>3.273582e+06</td>\n",
       "      <td>3.274698e+06</td>\n",
       "    </tr>\n",
       "    <tr>\n",
       "      <th>75%</th>\n",
       "      <td>3.273583e+06</td>\n",
       "      <td>3.274724e+06</td>\n",
       "    </tr>\n",
       "    <tr>\n",
       "      <th>max</th>\n",
       "      <td>3.588304e+06</td>\n",
       "      <td>3.590547e+06</td>\n",
       "    </tr>\n",
       "  </tbody>\n",
       "</table>\n",
       "</div>"
      ],
      "text/plain": [
       "         start_time      end_time\n",
       "count  9.660000e+02  9.850000e+02\n",
       "mean   2.528277e+06  2.558755e+06\n",
       "std    9.115939e+05  9.204741e+05\n",
       "min    1.440387e+06  1.440410e+06\n",
       "25%    1.457995e+06  1.459302e+06\n",
       "50%    3.273582e+06  3.274698e+06\n",
       "75%    3.273583e+06  3.274724e+06\n",
       "max    3.588304e+06  3.590547e+06"
      ]
     },
     "execution_count": 4,
     "metadata": {},
     "output_type": "execute_result"
    }
   ],
   "source": [
    "df.describe()"
   ]
  },
  {
   "cell_type": "code",
   "execution_count": 5,
   "metadata": {
    "colab": {
     "base_uri": "https://localhost:8080/",
     "height": 270
    },
    "id": "WC5jHIIlS4XI",
    "outputId": "3e87939a-9a67-460b-b6b8-0866c693fe32"
   },
   "outputs": [
    {
     "data": {
      "text/html": [
       "<div>\n",
       "<style scoped>\n",
       "    .dataframe tbody tr th:only-of-type {\n",
       "        vertical-align: middle;\n",
       "    }\n",
       "\n",
       "    .dataframe tbody tr th {\n",
       "        vertical-align: top;\n",
       "    }\n",
       "\n",
       "    .dataframe thead th {\n",
       "        text-align: right;\n",
       "    }\n",
       "</style>\n",
       "<table border=\"1\" class=\"dataframe\">\n",
       "  <thead>\n",
       "    <tr style=\"text-align: right;\">\n",
       "      <th></th>\n",
       "      <th>job_name</th>\n",
       "      <th>task_name</th>\n",
       "      <th>inst_name</th>\n",
       "      <th>worker_name</th>\n",
       "      <th>inst_id</th>\n",
       "      <th>status</th>\n",
       "      <th>start_time</th>\n",
       "      <th>end_time</th>\n",
       "      <th>machine</th>\n",
       "    </tr>\n",
       "  </thead>\n",
       "  <tbody>\n",
       "    <tr>\n",
       "      <th>0</th>\n",
       "      <td>54670e2998350a9f0e4868d5</td>\n",
       "      <td>worker</td>\n",
       "      <td>c47ee192deea8c5aa87d8d7c2e02120cd03f75304a69dd...</td>\n",
       "      <td>05b1590648df3f4c6deea2496bbbefd4d3ae93347669f7...</td>\n",
       "      <td>68889727c2257f702108d185e5eed342a39807a2893d4b...</td>\n",
       "      <td>Terminated</td>\n",
       "      <td>3272995.0</td>\n",
       "      <td>3273065.0</td>\n",
       "      <td>165261853e188ca69c4fbcdf</td>\n",
       "    </tr>\n",
       "    <tr>\n",
       "      <th>1</th>\n",
       "      <td>54670e2998350a9f0e4868d5</td>\n",
       "      <td>worker</td>\n",
       "      <td>92759a73039692b2d3e0929cadf55f5b07b40d6582c36f...</td>\n",
       "      <td>cbc1bc591c53301bceafa44dc626288fd92d2fc5dca438...</td>\n",
       "      <td>68889727c2257f702108d185e5eed342a39807a2893d4b...</td>\n",
       "      <td>Terminated</td>\n",
       "      <td>3272995.0</td>\n",
       "      <td>3273056.0</td>\n",
       "      <td>31dbf829549b10917e7193a6</td>\n",
       "    </tr>\n",
       "    <tr>\n",
       "      <th>2</th>\n",
       "      <td>54670e2998350a9f0e4868d5</td>\n",
       "      <td>worker</td>\n",
       "      <td>b3e42abde4c35da06ff4746802b82678b1bf56b28efaa1...</td>\n",
       "      <td>09d41bf627188adc004b2db7c0a47578325952cc3340af...</td>\n",
       "      <td>68889727c2257f702108d185e5eed342a39807a2893d4b...</td>\n",
       "      <td>Terminated</td>\n",
       "      <td>3272995.0</td>\n",
       "      <td>3273067.0</td>\n",
       "      <td>31dbf829549b10917e7193a6</td>\n",
       "    </tr>\n",
       "    <tr>\n",
       "      <th>3</th>\n",
       "      <td>54670e2998350a9f0e4868d5</td>\n",
       "      <td>worker</td>\n",
       "      <td>d0f2e1f76ff463bcd08302370cc2f9bf0ec1333a3b25e3...</td>\n",
       "      <td>1a631e8be3fd787c2891c15b9e9bac6df4f177efc9ec7b...</td>\n",
       "      <td>68889727c2257f702108d185e5eed342a39807a2893d4b...</td>\n",
       "      <td>Terminated</td>\n",
       "      <td>3272995.0</td>\n",
       "      <td>3273058.0</td>\n",
       "      <td>3765d45e2eca88d1d1da7cef</td>\n",
       "    </tr>\n",
       "    <tr>\n",
       "      <th>4</th>\n",
       "      <td>54670e2998350a9f0e4868d5</td>\n",
       "      <td>worker</td>\n",
       "      <td>0243b1305fd38f228634b23f69de5ed5ce801360eeffdc...</td>\n",
       "      <td>59aea81c00cccb5cd01ca2f7f72877d6bc73b427821986...</td>\n",
       "      <td>68889727c2257f702108d185e5eed342a39807a2893d4b...</td>\n",
       "      <td>Terminated</td>\n",
       "      <td>3272995.0</td>\n",
       "      <td>3273059.0</td>\n",
       "      <td>c0d6760f6248ea8260e36fa5</td>\n",
       "    </tr>\n",
       "  </tbody>\n",
       "</table>\n",
       "</div>"
      ],
      "text/plain": [
       "                   job_name task_name  \\\n",
       "0  54670e2998350a9f0e4868d5    worker   \n",
       "1  54670e2998350a9f0e4868d5    worker   \n",
       "2  54670e2998350a9f0e4868d5    worker   \n",
       "3  54670e2998350a9f0e4868d5    worker   \n",
       "4  54670e2998350a9f0e4868d5    worker   \n",
       "\n",
       "                                           inst_name  \\\n",
       "0  c47ee192deea8c5aa87d8d7c2e02120cd03f75304a69dd...   \n",
       "1  92759a73039692b2d3e0929cadf55f5b07b40d6582c36f...   \n",
       "2  b3e42abde4c35da06ff4746802b82678b1bf56b28efaa1...   \n",
       "3  d0f2e1f76ff463bcd08302370cc2f9bf0ec1333a3b25e3...   \n",
       "4  0243b1305fd38f228634b23f69de5ed5ce801360eeffdc...   \n",
       "\n",
       "                                         worker_name  \\\n",
       "0  05b1590648df3f4c6deea2496bbbefd4d3ae93347669f7...   \n",
       "1  cbc1bc591c53301bceafa44dc626288fd92d2fc5dca438...   \n",
       "2  09d41bf627188adc004b2db7c0a47578325952cc3340af...   \n",
       "3  1a631e8be3fd787c2891c15b9e9bac6df4f177efc9ec7b...   \n",
       "4  59aea81c00cccb5cd01ca2f7f72877d6bc73b427821986...   \n",
       "\n",
       "                                             inst_id      status  start_time  \\\n",
       "0  68889727c2257f702108d185e5eed342a39807a2893d4b...  Terminated   3272995.0   \n",
       "1  68889727c2257f702108d185e5eed342a39807a2893d4b...  Terminated   3272995.0   \n",
       "2  68889727c2257f702108d185e5eed342a39807a2893d4b...  Terminated   3272995.0   \n",
       "3  68889727c2257f702108d185e5eed342a39807a2893d4b...  Terminated   3272995.0   \n",
       "4  68889727c2257f702108d185e5eed342a39807a2893d4b...  Terminated   3272995.0   \n",
       "\n",
       "    end_time                   machine  \n",
       "0  3273065.0  165261853e188ca69c4fbcdf  \n",
       "1  3273056.0  31dbf829549b10917e7193a6  \n",
       "2  3273067.0  31dbf829549b10917e7193a6  \n",
       "3  3273058.0  3765d45e2eca88d1d1da7cef  \n",
       "4  3273059.0  c0d6760f6248ea8260e36fa5  "
      ]
     },
     "execution_count": 5,
     "metadata": {},
     "output_type": "execute_result"
    }
   ],
   "source": [
    "df.head()"
   ]
  },
  {
   "cell_type": "code",
   "execution_count": 6,
   "metadata": {
    "colab": {
     "base_uri": "https://localhost:8080/"
    },
    "id": "e0WT3EvXS6en",
    "outputId": "3154488b-08e7-486f-8ba1-36e133c15269"
   },
   "outputs": [
    {
     "data": {
      "text/plain": [
       "job_name        0\n",
       "task_name       0\n",
       "inst_name       0\n",
       "worker_name     0\n",
       "inst_id         0\n",
       "status          0\n",
       "start_time     33\n",
       "end_time       14\n",
       "machine         0\n",
       "dtype: int64"
      ]
     },
     "execution_count": 6,
     "metadata": {},
     "output_type": "execute_result"
    }
   ],
   "source": [
    "df.isna().sum()"
   ]
  },
  {
   "cell_type": "code",
   "execution_count": 7,
   "metadata": {
    "colab": {
     "base_uri": "https://localhost:8080/"
    },
    "id": "9q0nHb5dgTq2",
    "outputId": "b2de7a7a-a1e3-470c-e482-8e8baf053b2c"
   },
   "outputs": [
    {
     "name": "stdout",
     "output_type": "stream",
     "text": [
      "<class 'pandas.core.frame.DataFrame'>\n",
      "RangeIndex: 999 entries, 0 to 998\n",
      "Data columns (total 9 columns):\n",
      " #   Column       Non-Null Count  Dtype  \n",
      "---  ------       --------------  -----  \n",
      " 0   job_name     999 non-null    object \n",
      " 1   task_name    999 non-null    object \n",
      " 2   inst_name    999 non-null    object \n",
      " 3   worker_name  999 non-null    object \n",
      " 4   inst_id      999 non-null    object \n",
      " 5   status       999 non-null    object \n",
      " 6   start_time   966 non-null    float64\n",
      " 7   end_time     985 non-null    float64\n",
      " 8   machine      999 non-null    object \n",
      "dtypes: float64(2), object(7)\n",
      "memory usage: 70.4+ KB\n"
     ]
    }
   ],
   "source": [
    "df.info()"
   ]
  },
  {
   "cell_type": "code",
   "execution_count": 8,
   "metadata": {
    "id": "jMaKurprPNT8"
   },
   "outputs": [],
   "source": [
    "from sklearn import preprocessing"
   ]
  },
  {
   "cell_type": "code",
   "execution_count": 9,
   "metadata": {
    "id": "O8amayhtYbX-"
   },
   "outputs": [],
   "source": [
    "label_encoder=preprocessing.LabelEncoder()"
   ]
  },
  {
   "cell_type": "code",
   "execution_count": 10,
   "metadata": {
    "id": "dK4mG9WDX3P-"
   },
   "outputs": [],
   "source": [
    "df['task_name']=label_encoder.fit_transform(df['task_name']) "
   ]
  },
  {
   "cell_type": "code",
   "execution_count": 11,
   "metadata": {
    "colab": {
     "base_uri": "https://localhost:8080/"
    },
    "id": "yVbeEe7gYuUe",
    "outputId": "9ef8712e-a871-4833-a1f5-0533a1f7387f"
   },
   "outputs": [
    {
     "data": {
      "text/plain": [
       "array([6, 5, 4, 1, 7, 2, 0, 3])"
      ]
     },
     "execution_count": 11,
     "metadata": {},
     "output_type": "execute_result"
    }
   ],
   "source": [
    "df['task_name'].unique()"
   ]
  },
  {
   "cell_type": "code",
   "execution_count": 12,
   "metadata": {
    "id": "8zDSsIMcY2a2"
   },
   "outputs": [],
   "source": [
    "df['status']=label_encoder.fit_transform(df['status']) "
   ]
  },
  {
   "cell_type": "code",
   "execution_count": 13,
   "metadata": {
    "colab": {
     "base_uri": "https://localhost:8080/",
     "height": 488
    },
    "id": "VFEioN9flB3N",
    "outputId": "71b686ec-bd16-4f83-8963-5ed6e90cad1b"
   },
   "outputs": [
    {
     "data": {
      "text/html": [
       "<div>\n",
       "<style scoped>\n",
       "    .dataframe tbody tr th:only-of-type {\n",
       "        vertical-align: middle;\n",
       "    }\n",
       "\n",
       "    .dataframe tbody tr th {\n",
       "        vertical-align: top;\n",
       "    }\n",
       "\n",
       "    .dataframe thead th {\n",
       "        text-align: right;\n",
       "    }\n",
       "</style>\n",
       "<table border=\"1\" class=\"dataframe\">\n",
       "  <thead>\n",
       "    <tr style=\"text-align: right;\">\n",
       "      <th></th>\n",
       "      <th>job_name</th>\n",
       "      <th>task_name</th>\n",
       "      <th>inst_name</th>\n",
       "      <th>worker_name</th>\n",
       "      <th>inst_id</th>\n",
       "      <th>status</th>\n",
       "      <th>start_time</th>\n",
       "      <th>end_time</th>\n",
       "      <th>machine</th>\n",
       "    </tr>\n",
       "  </thead>\n",
       "  <tbody>\n",
       "    <tr>\n",
       "      <th>0</th>\n",
       "      <td>54670e2998350a9f0e4868d5</td>\n",
       "      <td>6</td>\n",
       "      <td>c47ee192deea8c5aa87d8d7c2e02120cd03f75304a69dd...</td>\n",
       "      <td>05b1590648df3f4c6deea2496bbbefd4d3ae93347669f7...</td>\n",
       "      <td>68889727c2257f702108d185e5eed342a39807a2893d4b...</td>\n",
       "      <td>3</td>\n",
       "      <td>3272995.0</td>\n",
       "      <td>3273065.0</td>\n",
       "      <td>165261853e188ca69c4fbcdf</td>\n",
       "    </tr>\n",
       "    <tr>\n",
       "      <th>1</th>\n",
       "      <td>54670e2998350a9f0e4868d5</td>\n",
       "      <td>6</td>\n",
       "      <td>92759a73039692b2d3e0929cadf55f5b07b40d6582c36f...</td>\n",
       "      <td>cbc1bc591c53301bceafa44dc626288fd92d2fc5dca438...</td>\n",
       "      <td>68889727c2257f702108d185e5eed342a39807a2893d4b...</td>\n",
       "      <td>3</td>\n",
       "      <td>3272995.0</td>\n",
       "      <td>3273056.0</td>\n",
       "      <td>31dbf829549b10917e7193a6</td>\n",
       "    </tr>\n",
       "    <tr>\n",
       "      <th>2</th>\n",
       "      <td>54670e2998350a9f0e4868d5</td>\n",
       "      <td>6</td>\n",
       "      <td>b3e42abde4c35da06ff4746802b82678b1bf56b28efaa1...</td>\n",
       "      <td>09d41bf627188adc004b2db7c0a47578325952cc3340af...</td>\n",
       "      <td>68889727c2257f702108d185e5eed342a39807a2893d4b...</td>\n",
       "      <td>3</td>\n",
       "      <td>3272995.0</td>\n",
       "      <td>3273067.0</td>\n",
       "      <td>31dbf829549b10917e7193a6</td>\n",
       "    </tr>\n",
       "    <tr>\n",
       "      <th>3</th>\n",
       "      <td>54670e2998350a9f0e4868d5</td>\n",
       "      <td>6</td>\n",
       "      <td>d0f2e1f76ff463bcd08302370cc2f9bf0ec1333a3b25e3...</td>\n",
       "      <td>1a631e8be3fd787c2891c15b9e9bac6df4f177efc9ec7b...</td>\n",
       "      <td>68889727c2257f702108d185e5eed342a39807a2893d4b...</td>\n",
       "      <td>3</td>\n",
       "      <td>3272995.0</td>\n",
       "      <td>3273058.0</td>\n",
       "      <td>3765d45e2eca88d1d1da7cef</td>\n",
       "    </tr>\n",
       "    <tr>\n",
       "      <th>4</th>\n",
       "      <td>54670e2998350a9f0e4868d5</td>\n",
       "      <td>6</td>\n",
       "      <td>0243b1305fd38f228634b23f69de5ed5ce801360eeffdc...</td>\n",
       "      <td>59aea81c00cccb5cd01ca2f7f72877d6bc73b427821986...</td>\n",
       "      <td>68889727c2257f702108d185e5eed342a39807a2893d4b...</td>\n",
       "      <td>3</td>\n",
       "      <td>3272995.0</td>\n",
       "      <td>3273059.0</td>\n",
       "      <td>c0d6760f6248ea8260e36fa5</td>\n",
       "    </tr>\n",
       "    <tr>\n",
       "      <th>...</th>\n",
       "      <td>...</td>\n",
       "      <td>...</td>\n",
       "      <td>...</td>\n",
       "      <td>...</td>\n",
       "      <td>...</td>\n",
       "      <td>...</td>\n",
       "      <td>...</td>\n",
       "      <td>...</td>\n",
       "      <td>...</td>\n",
       "    </tr>\n",
       "    <tr>\n",
       "      <th>994</th>\n",
       "      <td>259758d8ce7dab19c47c1cf9</td>\n",
       "      <td>6</td>\n",
       "      <td>d3c11b862634e6185c22d7c89fc08f667527b39779cb41...</td>\n",
       "      <td>9f7742973dbe2b8d2b6bf1375abfd4e073f45450638fdc...</td>\n",
       "      <td>b8dcabc5ed4723ef2321da505269e781ade92fd414fcc4...</td>\n",
       "      <td>3</td>\n",
       "      <td>3547830.0</td>\n",
       "      <td>3550678.0</td>\n",
       "      <td>b2897296e9402cce1ac00e73</td>\n",
       "    </tr>\n",
       "    <tr>\n",
       "      <th>995</th>\n",
       "      <td>259758d8ce7dab19c47c1cf9</td>\n",
       "      <td>6</td>\n",
       "      <td>a6812a028da978a3ab462f2ca15080b5c91799eb932cf2...</td>\n",
       "      <td>6909a44a6bbe9771cc32842680dca931c924aa1b48ae6c...</td>\n",
       "      <td>b8dcabc5ed4723ef2321da505269e781ade92fd414fcc4...</td>\n",
       "      <td>3</td>\n",
       "      <td>3547831.0</td>\n",
       "      <td>3550928.0</td>\n",
       "      <td>64ce8199950afc63fd21fe96</td>\n",
       "    </tr>\n",
       "    <tr>\n",
       "      <th>996</th>\n",
       "      <td>259758d8ce7dab19c47c1cf9</td>\n",
       "      <td>6</td>\n",
       "      <td>02e216e963305f5bf68e992721e2cf95d927bab59b1c04...</td>\n",
       "      <td>576c557d87df01c2a8d8533ecc7a067aa484710e8a23bb...</td>\n",
       "      <td>b8dcabc5ed4723ef2321da505269e781ade92fd414fcc4...</td>\n",
       "      <td>3</td>\n",
       "      <td>3547832.0</td>\n",
       "      <td>3550654.0</td>\n",
       "      <td>6e5816c3b9334f11d9e215b1</td>\n",
       "    </tr>\n",
       "    <tr>\n",
       "      <th>997</th>\n",
       "      <td>259758d8ce7dab19c47c1cf9</td>\n",
       "      <td>6</td>\n",
       "      <td>5f679bd45fd663ebe3f425102bff77290e9700765b8266...</td>\n",
       "      <td>1cb644ae688049b36de4187db4f3cc6532a90bbdfabb35...</td>\n",
       "      <td>b8dcabc5ed4723ef2321da505269e781ade92fd414fcc4...</td>\n",
       "      <td>3</td>\n",
       "      <td>3547831.0</td>\n",
       "      <td>3550743.0</td>\n",
       "      <td>c3a67200eaebd3d87534419d</td>\n",
       "    </tr>\n",
       "    <tr>\n",
       "      <th>998</th>\n",
       "      <td>259758d8ce7dab19c47c1cf9</td>\n",
       "      <td>6</td>\n",
       "      <td>166a8c34340bc933b112ae369c0bcb9ea43d0a8effb803...</td>\n",
       "      <td>ba7440e699693c0cf3f4f4cfe16e195a95c3837065d81a...</td>\n",
       "      <td>b8dcabc5ed4723ef2321da505269e781ade92fd414fcc4...</td>\n",
       "      <td>3</td>\n",
       "      <td>3547832.0</td>\n",
       "      <td>3550809.0</td>\n",
       "      <td>e884aa64a6e22a1779f6f410</td>\n",
       "    </tr>\n",
       "  </tbody>\n",
       "</table>\n",
       "<p>999 rows × 9 columns</p>\n",
       "</div>"
      ],
      "text/plain": [
       "                     job_name  task_name  \\\n",
       "0    54670e2998350a9f0e4868d5          6   \n",
       "1    54670e2998350a9f0e4868d5          6   \n",
       "2    54670e2998350a9f0e4868d5          6   \n",
       "3    54670e2998350a9f0e4868d5          6   \n",
       "4    54670e2998350a9f0e4868d5          6   \n",
       "..                        ...        ...   \n",
       "994  259758d8ce7dab19c47c1cf9          6   \n",
       "995  259758d8ce7dab19c47c1cf9          6   \n",
       "996  259758d8ce7dab19c47c1cf9          6   \n",
       "997  259758d8ce7dab19c47c1cf9          6   \n",
       "998  259758d8ce7dab19c47c1cf9          6   \n",
       "\n",
       "                                             inst_name  \\\n",
       "0    c47ee192deea8c5aa87d8d7c2e02120cd03f75304a69dd...   \n",
       "1    92759a73039692b2d3e0929cadf55f5b07b40d6582c36f...   \n",
       "2    b3e42abde4c35da06ff4746802b82678b1bf56b28efaa1...   \n",
       "3    d0f2e1f76ff463bcd08302370cc2f9bf0ec1333a3b25e3...   \n",
       "4    0243b1305fd38f228634b23f69de5ed5ce801360eeffdc...   \n",
       "..                                                 ...   \n",
       "994  d3c11b862634e6185c22d7c89fc08f667527b39779cb41...   \n",
       "995  a6812a028da978a3ab462f2ca15080b5c91799eb932cf2...   \n",
       "996  02e216e963305f5bf68e992721e2cf95d927bab59b1c04...   \n",
       "997  5f679bd45fd663ebe3f425102bff77290e9700765b8266...   \n",
       "998  166a8c34340bc933b112ae369c0bcb9ea43d0a8effb803...   \n",
       "\n",
       "                                           worker_name  \\\n",
       "0    05b1590648df3f4c6deea2496bbbefd4d3ae93347669f7...   \n",
       "1    cbc1bc591c53301bceafa44dc626288fd92d2fc5dca438...   \n",
       "2    09d41bf627188adc004b2db7c0a47578325952cc3340af...   \n",
       "3    1a631e8be3fd787c2891c15b9e9bac6df4f177efc9ec7b...   \n",
       "4    59aea81c00cccb5cd01ca2f7f72877d6bc73b427821986...   \n",
       "..                                                 ...   \n",
       "994  9f7742973dbe2b8d2b6bf1375abfd4e073f45450638fdc...   \n",
       "995  6909a44a6bbe9771cc32842680dca931c924aa1b48ae6c...   \n",
       "996  576c557d87df01c2a8d8533ecc7a067aa484710e8a23bb...   \n",
       "997  1cb644ae688049b36de4187db4f3cc6532a90bbdfabb35...   \n",
       "998  ba7440e699693c0cf3f4f4cfe16e195a95c3837065d81a...   \n",
       "\n",
       "                                               inst_id  status  start_time  \\\n",
       "0    68889727c2257f702108d185e5eed342a39807a2893d4b...       3   3272995.0   \n",
       "1    68889727c2257f702108d185e5eed342a39807a2893d4b...       3   3272995.0   \n",
       "2    68889727c2257f702108d185e5eed342a39807a2893d4b...       3   3272995.0   \n",
       "3    68889727c2257f702108d185e5eed342a39807a2893d4b...       3   3272995.0   \n",
       "4    68889727c2257f702108d185e5eed342a39807a2893d4b...       3   3272995.0   \n",
       "..                                                 ...     ...         ...   \n",
       "994  b8dcabc5ed4723ef2321da505269e781ade92fd414fcc4...       3   3547830.0   \n",
       "995  b8dcabc5ed4723ef2321da505269e781ade92fd414fcc4...       3   3547831.0   \n",
       "996  b8dcabc5ed4723ef2321da505269e781ade92fd414fcc4...       3   3547832.0   \n",
       "997  b8dcabc5ed4723ef2321da505269e781ade92fd414fcc4...       3   3547831.0   \n",
       "998  b8dcabc5ed4723ef2321da505269e781ade92fd414fcc4...       3   3547832.0   \n",
       "\n",
       "      end_time                   machine  \n",
       "0    3273065.0  165261853e188ca69c4fbcdf  \n",
       "1    3273056.0  31dbf829549b10917e7193a6  \n",
       "2    3273067.0  31dbf829549b10917e7193a6  \n",
       "3    3273058.0  3765d45e2eca88d1d1da7cef  \n",
       "4    3273059.0  c0d6760f6248ea8260e36fa5  \n",
       "..         ...                       ...  \n",
       "994  3550678.0  b2897296e9402cce1ac00e73  \n",
       "995  3550928.0  64ce8199950afc63fd21fe96  \n",
       "996  3550654.0  6e5816c3b9334f11d9e215b1  \n",
       "997  3550743.0  c3a67200eaebd3d87534419d  \n",
       "998  3550809.0  e884aa64a6e22a1779f6f410  \n",
       "\n",
       "[999 rows x 9 columns]"
      ]
     },
     "execution_count": 13,
     "metadata": {},
     "output_type": "execute_result"
    }
   ],
   "source": [
    "df"
   ]
  },
  {
   "cell_type": "code",
   "execution_count": 14,
   "metadata": {
    "colab": {
     "base_uri": "https://localhost:8080/"
    },
    "id": "h2dE-j9YY_fN",
    "outputId": "61c1b916-5a71-412a-a9e7-165ad80c5782"
   },
   "outputs": [
    {
     "data": {
      "text/plain": [
       "array([3, 0, 2, 1])"
      ]
     },
     "execution_count": 14,
     "metadata": {},
     "output_type": "execute_result"
    }
   ],
   "source": [
    "df['status'].unique()"
   ]
  },
  {
   "cell_type": "markdown",
   "metadata": {
    "id": "mvaypoNlqls4"
   },
   "source": [
    "Correlation"
   ]
  },
  {
   "cell_type": "code",
   "execution_count": 15,
   "metadata": {
    "colab": {
     "base_uri": "https://localhost:8080/",
     "height": 175
    },
    "id": "Df1lFhkeZCVF",
    "outputId": "c0a9451f-ca1c-4942-f463-7b8c2c08d7de"
   },
   "outputs": [
    {
     "data": {
      "text/html": [
       "<div>\n",
       "<style scoped>\n",
       "    .dataframe tbody tr th:only-of-type {\n",
       "        vertical-align: middle;\n",
       "    }\n",
       "\n",
       "    .dataframe tbody tr th {\n",
       "        vertical-align: top;\n",
       "    }\n",
       "\n",
       "    .dataframe thead th {\n",
       "        text-align: right;\n",
       "    }\n",
       "</style>\n",
       "<table border=\"1\" class=\"dataframe\">\n",
       "  <thead>\n",
       "    <tr style=\"text-align: right;\">\n",
       "      <th></th>\n",
       "      <th>task_name</th>\n",
       "      <th>status</th>\n",
       "      <th>start_time</th>\n",
       "      <th>end_time</th>\n",
       "    </tr>\n",
       "  </thead>\n",
       "  <tbody>\n",
       "    <tr>\n",
       "      <th>task_name</th>\n",
       "      <td>1.000000</td>\n",
       "      <td>-0.144318</td>\n",
       "      <td>0.975399</td>\n",
       "      <td>0.975324</td>\n",
       "    </tr>\n",
       "    <tr>\n",
       "      <th>status</th>\n",
       "      <td>-0.144318</td>\n",
       "      <td>1.000000</td>\n",
       "      <td>-0.090515</td>\n",
       "      <td>-0.191964</td>\n",
       "    </tr>\n",
       "    <tr>\n",
       "      <th>start_time</th>\n",
       "      <td>0.975399</td>\n",
       "      <td>-0.090515</td>\n",
       "      <td>1.000000</td>\n",
       "      <td>0.999579</td>\n",
       "    </tr>\n",
       "    <tr>\n",
       "      <th>end_time</th>\n",
       "      <td>0.975324</td>\n",
       "      <td>-0.191964</td>\n",
       "      <td>0.999579</td>\n",
       "      <td>1.000000</td>\n",
       "    </tr>\n",
       "  </tbody>\n",
       "</table>\n",
       "</div>"
      ],
      "text/plain": [
       "            task_name    status  start_time  end_time\n",
       "task_name    1.000000 -0.144318    0.975399  0.975324\n",
       "status      -0.144318  1.000000   -0.090515 -0.191964\n",
       "start_time   0.975399 -0.090515    1.000000  0.999579\n",
       "end_time     0.975324 -0.191964    0.999579  1.000000"
      ]
     },
     "execution_count": 15,
     "metadata": {},
     "output_type": "execute_result"
    }
   ],
   "source": [
    "df.corr()"
   ]
  },
  {
   "cell_type": "code",
   "execution_count": 16,
   "metadata": {
    "colab": {
     "base_uri": "https://localhost:8080/",
     "height": 488
    },
    "id": "XssEKcqWgDZX",
    "outputId": "7a3b39e5-83f7-43ae-ed30-cf21e003c7c2"
   },
   "outputs": [
    {
     "data": {
      "text/html": [
       "<div>\n",
       "<style scoped>\n",
       "    .dataframe tbody tr th:only-of-type {\n",
       "        vertical-align: middle;\n",
       "    }\n",
       "\n",
       "    .dataframe tbody tr th {\n",
       "        vertical-align: top;\n",
       "    }\n",
       "\n",
       "    .dataframe thead th {\n",
       "        text-align: right;\n",
       "    }\n",
       "</style>\n",
       "<table border=\"1\" class=\"dataframe\">\n",
       "  <thead>\n",
       "    <tr style=\"text-align: right;\">\n",
       "      <th></th>\n",
       "      <th>job_name</th>\n",
       "      <th>task_name</th>\n",
       "      <th>inst_name</th>\n",
       "      <th>worker_name</th>\n",
       "      <th>inst_id</th>\n",
       "      <th>status</th>\n",
       "      <th>start_time</th>\n",
       "      <th>end_time</th>\n",
       "      <th>machine</th>\n",
       "    </tr>\n",
       "  </thead>\n",
       "  <tbody>\n",
       "    <tr>\n",
       "      <th>0</th>\n",
       "      <td>54670e2998350a9f0e4868d5</td>\n",
       "      <td>6</td>\n",
       "      <td>c47ee192deea8c5aa87d8d7c2e02120cd03f75304a69dd...</td>\n",
       "      <td>05b1590648df3f4c6deea2496bbbefd4d3ae93347669f7...</td>\n",
       "      <td>68889727c2257f702108d185e5eed342a39807a2893d4b...</td>\n",
       "      <td>3</td>\n",
       "      <td>3272995.0</td>\n",
       "      <td>3273065.0</td>\n",
       "      <td>165261853e188ca69c4fbcdf</td>\n",
       "    </tr>\n",
       "    <tr>\n",
       "      <th>1</th>\n",
       "      <td>54670e2998350a9f0e4868d5</td>\n",
       "      <td>6</td>\n",
       "      <td>92759a73039692b2d3e0929cadf55f5b07b40d6582c36f...</td>\n",
       "      <td>cbc1bc591c53301bceafa44dc626288fd92d2fc5dca438...</td>\n",
       "      <td>68889727c2257f702108d185e5eed342a39807a2893d4b...</td>\n",
       "      <td>3</td>\n",
       "      <td>3272995.0</td>\n",
       "      <td>3273056.0</td>\n",
       "      <td>31dbf829549b10917e7193a6</td>\n",
       "    </tr>\n",
       "    <tr>\n",
       "      <th>2</th>\n",
       "      <td>54670e2998350a9f0e4868d5</td>\n",
       "      <td>6</td>\n",
       "      <td>b3e42abde4c35da06ff4746802b82678b1bf56b28efaa1...</td>\n",
       "      <td>09d41bf627188adc004b2db7c0a47578325952cc3340af...</td>\n",
       "      <td>68889727c2257f702108d185e5eed342a39807a2893d4b...</td>\n",
       "      <td>3</td>\n",
       "      <td>3272995.0</td>\n",
       "      <td>3273067.0</td>\n",
       "      <td>31dbf829549b10917e7193a6</td>\n",
       "    </tr>\n",
       "    <tr>\n",
       "      <th>3</th>\n",
       "      <td>54670e2998350a9f0e4868d5</td>\n",
       "      <td>6</td>\n",
       "      <td>d0f2e1f76ff463bcd08302370cc2f9bf0ec1333a3b25e3...</td>\n",
       "      <td>1a631e8be3fd787c2891c15b9e9bac6df4f177efc9ec7b...</td>\n",
       "      <td>68889727c2257f702108d185e5eed342a39807a2893d4b...</td>\n",
       "      <td>3</td>\n",
       "      <td>3272995.0</td>\n",
       "      <td>3273058.0</td>\n",
       "      <td>3765d45e2eca88d1d1da7cef</td>\n",
       "    </tr>\n",
       "    <tr>\n",
       "      <th>4</th>\n",
       "      <td>54670e2998350a9f0e4868d5</td>\n",
       "      <td>6</td>\n",
       "      <td>0243b1305fd38f228634b23f69de5ed5ce801360eeffdc...</td>\n",
       "      <td>59aea81c00cccb5cd01ca2f7f72877d6bc73b427821986...</td>\n",
       "      <td>68889727c2257f702108d185e5eed342a39807a2893d4b...</td>\n",
       "      <td>3</td>\n",
       "      <td>3272995.0</td>\n",
       "      <td>3273059.0</td>\n",
       "      <td>c0d6760f6248ea8260e36fa5</td>\n",
       "    </tr>\n",
       "    <tr>\n",
       "      <th>...</th>\n",
       "      <td>...</td>\n",
       "      <td>...</td>\n",
       "      <td>...</td>\n",
       "      <td>...</td>\n",
       "      <td>...</td>\n",
       "      <td>...</td>\n",
       "      <td>...</td>\n",
       "      <td>...</td>\n",
       "      <td>...</td>\n",
       "    </tr>\n",
       "    <tr>\n",
       "      <th>994</th>\n",
       "      <td>259758d8ce7dab19c47c1cf9</td>\n",
       "      <td>6</td>\n",
       "      <td>d3c11b862634e6185c22d7c89fc08f667527b39779cb41...</td>\n",
       "      <td>9f7742973dbe2b8d2b6bf1375abfd4e073f45450638fdc...</td>\n",
       "      <td>b8dcabc5ed4723ef2321da505269e781ade92fd414fcc4...</td>\n",
       "      <td>3</td>\n",
       "      <td>3547830.0</td>\n",
       "      <td>3550678.0</td>\n",
       "      <td>b2897296e9402cce1ac00e73</td>\n",
       "    </tr>\n",
       "    <tr>\n",
       "      <th>995</th>\n",
       "      <td>259758d8ce7dab19c47c1cf9</td>\n",
       "      <td>6</td>\n",
       "      <td>a6812a028da978a3ab462f2ca15080b5c91799eb932cf2...</td>\n",
       "      <td>6909a44a6bbe9771cc32842680dca931c924aa1b48ae6c...</td>\n",
       "      <td>b8dcabc5ed4723ef2321da505269e781ade92fd414fcc4...</td>\n",
       "      <td>3</td>\n",
       "      <td>3547831.0</td>\n",
       "      <td>3550928.0</td>\n",
       "      <td>64ce8199950afc63fd21fe96</td>\n",
       "    </tr>\n",
       "    <tr>\n",
       "      <th>996</th>\n",
       "      <td>259758d8ce7dab19c47c1cf9</td>\n",
       "      <td>6</td>\n",
       "      <td>02e216e963305f5bf68e992721e2cf95d927bab59b1c04...</td>\n",
       "      <td>576c557d87df01c2a8d8533ecc7a067aa484710e8a23bb...</td>\n",
       "      <td>b8dcabc5ed4723ef2321da505269e781ade92fd414fcc4...</td>\n",
       "      <td>3</td>\n",
       "      <td>3547832.0</td>\n",
       "      <td>3550654.0</td>\n",
       "      <td>6e5816c3b9334f11d9e215b1</td>\n",
       "    </tr>\n",
       "    <tr>\n",
       "      <th>997</th>\n",
       "      <td>259758d8ce7dab19c47c1cf9</td>\n",
       "      <td>6</td>\n",
       "      <td>5f679bd45fd663ebe3f425102bff77290e9700765b8266...</td>\n",
       "      <td>1cb644ae688049b36de4187db4f3cc6532a90bbdfabb35...</td>\n",
       "      <td>b8dcabc5ed4723ef2321da505269e781ade92fd414fcc4...</td>\n",
       "      <td>3</td>\n",
       "      <td>3547831.0</td>\n",
       "      <td>3550743.0</td>\n",
       "      <td>c3a67200eaebd3d87534419d</td>\n",
       "    </tr>\n",
       "    <tr>\n",
       "      <th>998</th>\n",
       "      <td>259758d8ce7dab19c47c1cf9</td>\n",
       "      <td>6</td>\n",
       "      <td>166a8c34340bc933b112ae369c0bcb9ea43d0a8effb803...</td>\n",
       "      <td>ba7440e699693c0cf3f4f4cfe16e195a95c3837065d81a...</td>\n",
       "      <td>b8dcabc5ed4723ef2321da505269e781ade92fd414fcc4...</td>\n",
       "      <td>3</td>\n",
       "      <td>3547832.0</td>\n",
       "      <td>3550809.0</td>\n",
       "      <td>e884aa64a6e22a1779f6f410</td>\n",
       "    </tr>\n",
       "  </tbody>\n",
       "</table>\n",
       "<p>999 rows × 9 columns</p>\n",
       "</div>"
      ],
      "text/plain": [
       "                     job_name  task_name  \\\n",
       "0    54670e2998350a9f0e4868d5          6   \n",
       "1    54670e2998350a9f0e4868d5          6   \n",
       "2    54670e2998350a9f0e4868d5          6   \n",
       "3    54670e2998350a9f0e4868d5          6   \n",
       "4    54670e2998350a9f0e4868d5          6   \n",
       "..                        ...        ...   \n",
       "994  259758d8ce7dab19c47c1cf9          6   \n",
       "995  259758d8ce7dab19c47c1cf9          6   \n",
       "996  259758d8ce7dab19c47c1cf9          6   \n",
       "997  259758d8ce7dab19c47c1cf9          6   \n",
       "998  259758d8ce7dab19c47c1cf9          6   \n",
       "\n",
       "                                             inst_name  \\\n",
       "0    c47ee192deea8c5aa87d8d7c2e02120cd03f75304a69dd...   \n",
       "1    92759a73039692b2d3e0929cadf55f5b07b40d6582c36f...   \n",
       "2    b3e42abde4c35da06ff4746802b82678b1bf56b28efaa1...   \n",
       "3    d0f2e1f76ff463bcd08302370cc2f9bf0ec1333a3b25e3...   \n",
       "4    0243b1305fd38f228634b23f69de5ed5ce801360eeffdc...   \n",
       "..                                                 ...   \n",
       "994  d3c11b862634e6185c22d7c89fc08f667527b39779cb41...   \n",
       "995  a6812a028da978a3ab462f2ca15080b5c91799eb932cf2...   \n",
       "996  02e216e963305f5bf68e992721e2cf95d927bab59b1c04...   \n",
       "997  5f679bd45fd663ebe3f425102bff77290e9700765b8266...   \n",
       "998  166a8c34340bc933b112ae369c0bcb9ea43d0a8effb803...   \n",
       "\n",
       "                                           worker_name  \\\n",
       "0    05b1590648df3f4c6deea2496bbbefd4d3ae93347669f7...   \n",
       "1    cbc1bc591c53301bceafa44dc626288fd92d2fc5dca438...   \n",
       "2    09d41bf627188adc004b2db7c0a47578325952cc3340af...   \n",
       "3    1a631e8be3fd787c2891c15b9e9bac6df4f177efc9ec7b...   \n",
       "4    59aea81c00cccb5cd01ca2f7f72877d6bc73b427821986...   \n",
       "..                                                 ...   \n",
       "994  9f7742973dbe2b8d2b6bf1375abfd4e073f45450638fdc...   \n",
       "995  6909a44a6bbe9771cc32842680dca931c924aa1b48ae6c...   \n",
       "996  576c557d87df01c2a8d8533ecc7a067aa484710e8a23bb...   \n",
       "997  1cb644ae688049b36de4187db4f3cc6532a90bbdfabb35...   \n",
       "998  ba7440e699693c0cf3f4f4cfe16e195a95c3837065d81a...   \n",
       "\n",
       "                                               inst_id  status  start_time  \\\n",
       "0    68889727c2257f702108d185e5eed342a39807a2893d4b...       3   3272995.0   \n",
       "1    68889727c2257f702108d185e5eed342a39807a2893d4b...       3   3272995.0   \n",
       "2    68889727c2257f702108d185e5eed342a39807a2893d4b...       3   3272995.0   \n",
       "3    68889727c2257f702108d185e5eed342a39807a2893d4b...       3   3272995.0   \n",
       "4    68889727c2257f702108d185e5eed342a39807a2893d4b...       3   3272995.0   \n",
       "..                                                 ...     ...         ...   \n",
       "994  b8dcabc5ed4723ef2321da505269e781ade92fd414fcc4...       3   3547830.0   \n",
       "995  b8dcabc5ed4723ef2321da505269e781ade92fd414fcc4...       3   3547831.0   \n",
       "996  b8dcabc5ed4723ef2321da505269e781ade92fd414fcc4...       3   3547832.0   \n",
       "997  b8dcabc5ed4723ef2321da505269e781ade92fd414fcc4...       3   3547831.0   \n",
       "998  b8dcabc5ed4723ef2321da505269e781ade92fd414fcc4...       3   3547832.0   \n",
       "\n",
       "      end_time                   machine  \n",
       "0    3273065.0  165261853e188ca69c4fbcdf  \n",
       "1    3273056.0  31dbf829549b10917e7193a6  \n",
       "2    3273067.0  31dbf829549b10917e7193a6  \n",
       "3    3273058.0  3765d45e2eca88d1d1da7cef  \n",
       "4    3273059.0  c0d6760f6248ea8260e36fa5  \n",
       "..         ...                       ...  \n",
       "994  3550678.0  b2897296e9402cce1ac00e73  \n",
       "995  3550928.0  64ce8199950afc63fd21fe96  \n",
       "996  3550654.0  6e5816c3b9334f11d9e215b1  \n",
       "997  3550743.0  c3a67200eaebd3d87534419d  \n",
       "998  3550809.0  e884aa64a6e22a1779f6f410  \n",
       "\n",
       "[999 rows x 9 columns]"
      ]
     },
     "execution_count": 16,
     "metadata": {},
     "output_type": "execute_result"
    }
   ],
   "source": [
    "df.bfill()"
   ]
  },
  {
   "cell_type": "code",
   "execution_count": 17,
   "metadata": {
    "id": "fkSx4K61g2CW"
   },
   "outputs": [],
   "source": [
    "df = df.replace(np.nan, 0)"
   ]
  },
  {
   "cell_type": "code",
   "execution_count": 18,
   "metadata": {
    "colab": {
     "base_uri": "https://localhost:8080/",
     "height": 488
    },
    "id": "1pgOS0f8jJLr",
    "outputId": "b6a9f986-8651-4fdc-d301-a2c3a3f2a192"
   },
   "outputs": [
    {
     "data": {
      "text/html": [
       "<div>\n",
       "<style scoped>\n",
       "    .dataframe tbody tr th:only-of-type {\n",
       "        vertical-align: middle;\n",
       "    }\n",
       "\n",
       "    .dataframe tbody tr th {\n",
       "        vertical-align: top;\n",
       "    }\n",
       "\n",
       "    .dataframe thead th {\n",
       "        text-align: right;\n",
       "    }\n",
       "</style>\n",
       "<table border=\"1\" class=\"dataframe\">\n",
       "  <thead>\n",
       "    <tr style=\"text-align: right;\">\n",
       "      <th></th>\n",
       "      <th>job_name</th>\n",
       "      <th>task_name</th>\n",
       "      <th>inst_name</th>\n",
       "      <th>worker_name</th>\n",
       "      <th>inst_id</th>\n",
       "      <th>status</th>\n",
       "      <th>start_time</th>\n",
       "      <th>end_time</th>\n",
       "      <th>machine</th>\n",
       "    </tr>\n",
       "  </thead>\n",
       "  <tbody>\n",
       "    <tr>\n",
       "      <th>0</th>\n",
       "      <td>54670e2998350a9f0e4868d5</td>\n",
       "      <td>6</td>\n",
       "      <td>c47ee192deea8c5aa87d8d7c2e02120cd03f75304a69dd...</td>\n",
       "      <td>05b1590648df3f4c6deea2496bbbefd4d3ae93347669f7...</td>\n",
       "      <td>68889727c2257f702108d185e5eed342a39807a2893d4b...</td>\n",
       "      <td>3</td>\n",
       "      <td>3272995.0</td>\n",
       "      <td>3273065.0</td>\n",
       "      <td>165261853e188ca69c4fbcdf</td>\n",
       "    </tr>\n",
       "    <tr>\n",
       "      <th>1</th>\n",
       "      <td>54670e2998350a9f0e4868d5</td>\n",
       "      <td>6</td>\n",
       "      <td>92759a73039692b2d3e0929cadf55f5b07b40d6582c36f...</td>\n",
       "      <td>cbc1bc591c53301bceafa44dc626288fd92d2fc5dca438...</td>\n",
       "      <td>68889727c2257f702108d185e5eed342a39807a2893d4b...</td>\n",
       "      <td>3</td>\n",
       "      <td>3272995.0</td>\n",
       "      <td>3273056.0</td>\n",
       "      <td>31dbf829549b10917e7193a6</td>\n",
       "    </tr>\n",
       "    <tr>\n",
       "      <th>2</th>\n",
       "      <td>54670e2998350a9f0e4868d5</td>\n",
       "      <td>6</td>\n",
       "      <td>b3e42abde4c35da06ff4746802b82678b1bf56b28efaa1...</td>\n",
       "      <td>09d41bf627188adc004b2db7c0a47578325952cc3340af...</td>\n",
       "      <td>68889727c2257f702108d185e5eed342a39807a2893d4b...</td>\n",
       "      <td>3</td>\n",
       "      <td>3272995.0</td>\n",
       "      <td>3273067.0</td>\n",
       "      <td>31dbf829549b10917e7193a6</td>\n",
       "    </tr>\n",
       "    <tr>\n",
       "      <th>3</th>\n",
       "      <td>54670e2998350a9f0e4868d5</td>\n",
       "      <td>6</td>\n",
       "      <td>d0f2e1f76ff463bcd08302370cc2f9bf0ec1333a3b25e3...</td>\n",
       "      <td>1a631e8be3fd787c2891c15b9e9bac6df4f177efc9ec7b...</td>\n",
       "      <td>68889727c2257f702108d185e5eed342a39807a2893d4b...</td>\n",
       "      <td>3</td>\n",
       "      <td>3272995.0</td>\n",
       "      <td>3273058.0</td>\n",
       "      <td>3765d45e2eca88d1d1da7cef</td>\n",
       "    </tr>\n",
       "    <tr>\n",
       "      <th>4</th>\n",
       "      <td>54670e2998350a9f0e4868d5</td>\n",
       "      <td>6</td>\n",
       "      <td>0243b1305fd38f228634b23f69de5ed5ce801360eeffdc...</td>\n",
       "      <td>59aea81c00cccb5cd01ca2f7f72877d6bc73b427821986...</td>\n",
       "      <td>68889727c2257f702108d185e5eed342a39807a2893d4b...</td>\n",
       "      <td>3</td>\n",
       "      <td>3272995.0</td>\n",
       "      <td>3273059.0</td>\n",
       "      <td>c0d6760f6248ea8260e36fa5</td>\n",
       "    </tr>\n",
       "    <tr>\n",
       "      <th>...</th>\n",
       "      <td>...</td>\n",
       "      <td>...</td>\n",
       "      <td>...</td>\n",
       "      <td>...</td>\n",
       "      <td>...</td>\n",
       "      <td>...</td>\n",
       "      <td>...</td>\n",
       "      <td>...</td>\n",
       "      <td>...</td>\n",
       "    </tr>\n",
       "    <tr>\n",
       "      <th>994</th>\n",
       "      <td>259758d8ce7dab19c47c1cf9</td>\n",
       "      <td>6</td>\n",
       "      <td>d3c11b862634e6185c22d7c89fc08f667527b39779cb41...</td>\n",
       "      <td>9f7742973dbe2b8d2b6bf1375abfd4e073f45450638fdc...</td>\n",
       "      <td>b8dcabc5ed4723ef2321da505269e781ade92fd414fcc4...</td>\n",
       "      <td>3</td>\n",
       "      <td>3547830.0</td>\n",
       "      <td>3550678.0</td>\n",
       "      <td>b2897296e9402cce1ac00e73</td>\n",
       "    </tr>\n",
       "    <tr>\n",
       "      <th>995</th>\n",
       "      <td>259758d8ce7dab19c47c1cf9</td>\n",
       "      <td>6</td>\n",
       "      <td>a6812a028da978a3ab462f2ca15080b5c91799eb932cf2...</td>\n",
       "      <td>6909a44a6bbe9771cc32842680dca931c924aa1b48ae6c...</td>\n",
       "      <td>b8dcabc5ed4723ef2321da505269e781ade92fd414fcc4...</td>\n",
       "      <td>3</td>\n",
       "      <td>3547831.0</td>\n",
       "      <td>3550928.0</td>\n",
       "      <td>64ce8199950afc63fd21fe96</td>\n",
       "    </tr>\n",
       "    <tr>\n",
       "      <th>996</th>\n",
       "      <td>259758d8ce7dab19c47c1cf9</td>\n",
       "      <td>6</td>\n",
       "      <td>02e216e963305f5bf68e992721e2cf95d927bab59b1c04...</td>\n",
       "      <td>576c557d87df01c2a8d8533ecc7a067aa484710e8a23bb...</td>\n",
       "      <td>b8dcabc5ed4723ef2321da505269e781ade92fd414fcc4...</td>\n",
       "      <td>3</td>\n",
       "      <td>3547832.0</td>\n",
       "      <td>3550654.0</td>\n",
       "      <td>6e5816c3b9334f11d9e215b1</td>\n",
       "    </tr>\n",
       "    <tr>\n",
       "      <th>997</th>\n",
       "      <td>259758d8ce7dab19c47c1cf9</td>\n",
       "      <td>6</td>\n",
       "      <td>5f679bd45fd663ebe3f425102bff77290e9700765b8266...</td>\n",
       "      <td>1cb644ae688049b36de4187db4f3cc6532a90bbdfabb35...</td>\n",
       "      <td>b8dcabc5ed4723ef2321da505269e781ade92fd414fcc4...</td>\n",
       "      <td>3</td>\n",
       "      <td>3547831.0</td>\n",
       "      <td>3550743.0</td>\n",
       "      <td>c3a67200eaebd3d87534419d</td>\n",
       "    </tr>\n",
       "    <tr>\n",
       "      <th>998</th>\n",
       "      <td>259758d8ce7dab19c47c1cf9</td>\n",
       "      <td>6</td>\n",
       "      <td>166a8c34340bc933b112ae369c0bcb9ea43d0a8effb803...</td>\n",
       "      <td>ba7440e699693c0cf3f4f4cfe16e195a95c3837065d81a...</td>\n",
       "      <td>b8dcabc5ed4723ef2321da505269e781ade92fd414fcc4...</td>\n",
       "      <td>3</td>\n",
       "      <td>3547832.0</td>\n",
       "      <td>3550809.0</td>\n",
       "      <td>e884aa64a6e22a1779f6f410</td>\n",
       "    </tr>\n",
       "  </tbody>\n",
       "</table>\n",
       "<p>999 rows × 9 columns</p>\n",
       "</div>"
      ],
      "text/plain": [
       "                     job_name  task_name  \\\n",
       "0    54670e2998350a9f0e4868d5          6   \n",
       "1    54670e2998350a9f0e4868d5          6   \n",
       "2    54670e2998350a9f0e4868d5          6   \n",
       "3    54670e2998350a9f0e4868d5          6   \n",
       "4    54670e2998350a9f0e4868d5          6   \n",
       "..                        ...        ...   \n",
       "994  259758d8ce7dab19c47c1cf9          6   \n",
       "995  259758d8ce7dab19c47c1cf9          6   \n",
       "996  259758d8ce7dab19c47c1cf9          6   \n",
       "997  259758d8ce7dab19c47c1cf9          6   \n",
       "998  259758d8ce7dab19c47c1cf9          6   \n",
       "\n",
       "                                             inst_name  \\\n",
       "0    c47ee192deea8c5aa87d8d7c2e02120cd03f75304a69dd...   \n",
       "1    92759a73039692b2d3e0929cadf55f5b07b40d6582c36f...   \n",
       "2    b3e42abde4c35da06ff4746802b82678b1bf56b28efaa1...   \n",
       "3    d0f2e1f76ff463bcd08302370cc2f9bf0ec1333a3b25e3...   \n",
       "4    0243b1305fd38f228634b23f69de5ed5ce801360eeffdc...   \n",
       "..                                                 ...   \n",
       "994  d3c11b862634e6185c22d7c89fc08f667527b39779cb41...   \n",
       "995  a6812a028da978a3ab462f2ca15080b5c91799eb932cf2...   \n",
       "996  02e216e963305f5bf68e992721e2cf95d927bab59b1c04...   \n",
       "997  5f679bd45fd663ebe3f425102bff77290e9700765b8266...   \n",
       "998  166a8c34340bc933b112ae369c0bcb9ea43d0a8effb803...   \n",
       "\n",
       "                                           worker_name  \\\n",
       "0    05b1590648df3f4c6deea2496bbbefd4d3ae93347669f7...   \n",
       "1    cbc1bc591c53301bceafa44dc626288fd92d2fc5dca438...   \n",
       "2    09d41bf627188adc004b2db7c0a47578325952cc3340af...   \n",
       "3    1a631e8be3fd787c2891c15b9e9bac6df4f177efc9ec7b...   \n",
       "4    59aea81c00cccb5cd01ca2f7f72877d6bc73b427821986...   \n",
       "..                                                 ...   \n",
       "994  9f7742973dbe2b8d2b6bf1375abfd4e073f45450638fdc...   \n",
       "995  6909a44a6bbe9771cc32842680dca931c924aa1b48ae6c...   \n",
       "996  576c557d87df01c2a8d8533ecc7a067aa484710e8a23bb...   \n",
       "997  1cb644ae688049b36de4187db4f3cc6532a90bbdfabb35...   \n",
       "998  ba7440e699693c0cf3f4f4cfe16e195a95c3837065d81a...   \n",
       "\n",
       "                                               inst_id  status  start_time  \\\n",
       "0    68889727c2257f702108d185e5eed342a39807a2893d4b...       3   3272995.0   \n",
       "1    68889727c2257f702108d185e5eed342a39807a2893d4b...       3   3272995.0   \n",
       "2    68889727c2257f702108d185e5eed342a39807a2893d4b...       3   3272995.0   \n",
       "3    68889727c2257f702108d185e5eed342a39807a2893d4b...       3   3272995.0   \n",
       "4    68889727c2257f702108d185e5eed342a39807a2893d4b...       3   3272995.0   \n",
       "..                                                 ...     ...         ...   \n",
       "994  b8dcabc5ed4723ef2321da505269e781ade92fd414fcc4...       3   3547830.0   \n",
       "995  b8dcabc5ed4723ef2321da505269e781ade92fd414fcc4...       3   3547831.0   \n",
       "996  b8dcabc5ed4723ef2321da505269e781ade92fd414fcc4...       3   3547832.0   \n",
       "997  b8dcabc5ed4723ef2321da505269e781ade92fd414fcc4...       3   3547831.0   \n",
       "998  b8dcabc5ed4723ef2321da505269e781ade92fd414fcc4...       3   3547832.0   \n",
       "\n",
       "      end_time                   machine  \n",
       "0    3273065.0  165261853e188ca69c4fbcdf  \n",
       "1    3273056.0  31dbf829549b10917e7193a6  \n",
       "2    3273067.0  31dbf829549b10917e7193a6  \n",
       "3    3273058.0  3765d45e2eca88d1d1da7cef  \n",
       "4    3273059.0  c0d6760f6248ea8260e36fa5  \n",
       "..         ...                       ...  \n",
       "994  3550678.0  b2897296e9402cce1ac00e73  \n",
       "995  3550928.0  64ce8199950afc63fd21fe96  \n",
       "996  3550654.0  6e5816c3b9334f11d9e215b1  \n",
       "997  3550743.0  c3a67200eaebd3d87534419d  \n",
       "998  3550809.0  e884aa64a6e22a1779f6f410  \n",
       "\n",
       "[999 rows x 9 columns]"
      ]
     },
     "execution_count": 18,
     "metadata": {},
     "output_type": "execute_result"
    }
   ],
   "source": [
    "df.dropna()"
   ]
  },
  {
   "cell_type": "code",
   "execution_count": 19,
   "metadata": {
    "id": "B0BtPj14dqYn"
   },
   "outputs": [],
   "source": [
    "from sklearn.model_selection import train_test_split"
   ]
  },
  {
   "cell_type": "code",
   "execution_count": 20,
   "metadata": {
    "id": "WkYeOI-uZGPN"
   },
   "outputs": [],
   "source": [
    "x = df[['task_name','start_time']]\n",
    "y = df[['end_time']]"
   ]
  },
  {
   "cell_type": "code",
   "execution_count": 21,
   "metadata": {
    "id": "276o_0SaaliM"
   },
   "outputs": [],
   "source": [
    "x_train, x_test, y_train, y_test = train_test_split(x, y, test_size = 0.25, random_state=9)"
   ]
  },
  {
   "cell_type": "markdown",
   "metadata": {},
   "source": [
    "#Linear regression"
   ]
  },
  {
   "cell_type": "code",
   "execution_count": 22,
   "metadata": {
    "id": "EtpM7AhJdkJP"
   },
   "outputs": [],
   "source": [
    "lin_reg_mod = LinearRegression()"
   ]
  },
  {
   "cell_type": "code",
   "execution_count": 23,
   "metadata": {
    "colab": {
     "base_uri": "https://localhost:8080/",
     "height": 488
    },
    "id": "AUrZDCy6kvPH",
    "outputId": "8d3e62a6-5aad-4dd1-e2e5-d8f93e9bcb1e"
   },
   "outputs": [
    {
     "data": {
      "text/html": [
       "<div>\n",
       "<style scoped>\n",
       "    .dataframe tbody tr th:only-of-type {\n",
       "        vertical-align: middle;\n",
       "    }\n",
       "\n",
       "    .dataframe tbody tr th {\n",
       "        vertical-align: top;\n",
       "    }\n",
       "\n",
       "    .dataframe thead th {\n",
       "        text-align: right;\n",
       "    }\n",
       "</style>\n",
       "<table border=\"1\" class=\"dataframe\">\n",
       "  <thead>\n",
       "    <tr style=\"text-align: right;\">\n",
       "      <th></th>\n",
       "      <th>job_name</th>\n",
       "      <th>task_name</th>\n",
       "      <th>inst_name</th>\n",
       "      <th>worker_name</th>\n",
       "      <th>inst_id</th>\n",
       "      <th>status</th>\n",
       "      <th>start_time</th>\n",
       "      <th>end_time</th>\n",
       "      <th>machine</th>\n",
       "    </tr>\n",
       "  </thead>\n",
       "  <tbody>\n",
       "    <tr>\n",
       "      <th>0</th>\n",
       "      <td>54670e2998350a9f0e4868d5</td>\n",
       "      <td>6</td>\n",
       "      <td>c47ee192deea8c5aa87d8d7c2e02120cd03f75304a69dd...</td>\n",
       "      <td>05b1590648df3f4c6deea2496bbbefd4d3ae93347669f7...</td>\n",
       "      <td>68889727c2257f702108d185e5eed342a39807a2893d4b...</td>\n",
       "      <td>3</td>\n",
       "      <td>3272995.0</td>\n",
       "      <td>3273065.0</td>\n",
       "      <td>165261853e188ca69c4fbcdf</td>\n",
       "    </tr>\n",
       "    <tr>\n",
       "      <th>1</th>\n",
       "      <td>54670e2998350a9f0e4868d5</td>\n",
       "      <td>6</td>\n",
       "      <td>92759a73039692b2d3e0929cadf55f5b07b40d6582c36f...</td>\n",
       "      <td>cbc1bc591c53301bceafa44dc626288fd92d2fc5dca438...</td>\n",
       "      <td>68889727c2257f702108d185e5eed342a39807a2893d4b...</td>\n",
       "      <td>3</td>\n",
       "      <td>3272995.0</td>\n",
       "      <td>3273056.0</td>\n",
       "      <td>31dbf829549b10917e7193a6</td>\n",
       "    </tr>\n",
       "    <tr>\n",
       "      <th>2</th>\n",
       "      <td>54670e2998350a9f0e4868d5</td>\n",
       "      <td>6</td>\n",
       "      <td>b3e42abde4c35da06ff4746802b82678b1bf56b28efaa1...</td>\n",
       "      <td>09d41bf627188adc004b2db7c0a47578325952cc3340af...</td>\n",
       "      <td>68889727c2257f702108d185e5eed342a39807a2893d4b...</td>\n",
       "      <td>3</td>\n",
       "      <td>3272995.0</td>\n",
       "      <td>3273067.0</td>\n",
       "      <td>31dbf829549b10917e7193a6</td>\n",
       "    </tr>\n",
       "    <tr>\n",
       "      <th>3</th>\n",
       "      <td>54670e2998350a9f0e4868d5</td>\n",
       "      <td>6</td>\n",
       "      <td>d0f2e1f76ff463bcd08302370cc2f9bf0ec1333a3b25e3...</td>\n",
       "      <td>1a631e8be3fd787c2891c15b9e9bac6df4f177efc9ec7b...</td>\n",
       "      <td>68889727c2257f702108d185e5eed342a39807a2893d4b...</td>\n",
       "      <td>3</td>\n",
       "      <td>3272995.0</td>\n",
       "      <td>3273058.0</td>\n",
       "      <td>3765d45e2eca88d1d1da7cef</td>\n",
       "    </tr>\n",
       "    <tr>\n",
       "      <th>4</th>\n",
       "      <td>54670e2998350a9f0e4868d5</td>\n",
       "      <td>6</td>\n",
       "      <td>0243b1305fd38f228634b23f69de5ed5ce801360eeffdc...</td>\n",
       "      <td>59aea81c00cccb5cd01ca2f7f72877d6bc73b427821986...</td>\n",
       "      <td>68889727c2257f702108d185e5eed342a39807a2893d4b...</td>\n",
       "      <td>3</td>\n",
       "      <td>3272995.0</td>\n",
       "      <td>3273059.0</td>\n",
       "      <td>c0d6760f6248ea8260e36fa5</td>\n",
       "    </tr>\n",
       "    <tr>\n",
       "      <th>...</th>\n",
       "      <td>...</td>\n",
       "      <td>...</td>\n",
       "      <td>...</td>\n",
       "      <td>...</td>\n",
       "      <td>...</td>\n",
       "      <td>...</td>\n",
       "      <td>...</td>\n",
       "      <td>...</td>\n",
       "      <td>...</td>\n",
       "    </tr>\n",
       "    <tr>\n",
       "      <th>994</th>\n",
       "      <td>259758d8ce7dab19c47c1cf9</td>\n",
       "      <td>6</td>\n",
       "      <td>d3c11b862634e6185c22d7c89fc08f667527b39779cb41...</td>\n",
       "      <td>9f7742973dbe2b8d2b6bf1375abfd4e073f45450638fdc...</td>\n",
       "      <td>b8dcabc5ed4723ef2321da505269e781ade92fd414fcc4...</td>\n",
       "      <td>3</td>\n",
       "      <td>3547830.0</td>\n",
       "      <td>3550678.0</td>\n",
       "      <td>b2897296e9402cce1ac00e73</td>\n",
       "    </tr>\n",
       "    <tr>\n",
       "      <th>995</th>\n",
       "      <td>259758d8ce7dab19c47c1cf9</td>\n",
       "      <td>6</td>\n",
       "      <td>a6812a028da978a3ab462f2ca15080b5c91799eb932cf2...</td>\n",
       "      <td>6909a44a6bbe9771cc32842680dca931c924aa1b48ae6c...</td>\n",
       "      <td>b8dcabc5ed4723ef2321da505269e781ade92fd414fcc4...</td>\n",
       "      <td>3</td>\n",
       "      <td>3547831.0</td>\n",
       "      <td>3550928.0</td>\n",
       "      <td>64ce8199950afc63fd21fe96</td>\n",
       "    </tr>\n",
       "    <tr>\n",
       "      <th>996</th>\n",
       "      <td>259758d8ce7dab19c47c1cf9</td>\n",
       "      <td>6</td>\n",
       "      <td>02e216e963305f5bf68e992721e2cf95d927bab59b1c04...</td>\n",
       "      <td>576c557d87df01c2a8d8533ecc7a067aa484710e8a23bb...</td>\n",
       "      <td>b8dcabc5ed4723ef2321da505269e781ade92fd414fcc4...</td>\n",
       "      <td>3</td>\n",
       "      <td>3547832.0</td>\n",
       "      <td>3550654.0</td>\n",
       "      <td>6e5816c3b9334f11d9e215b1</td>\n",
       "    </tr>\n",
       "    <tr>\n",
       "      <th>997</th>\n",
       "      <td>259758d8ce7dab19c47c1cf9</td>\n",
       "      <td>6</td>\n",
       "      <td>5f679bd45fd663ebe3f425102bff77290e9700765b8266...</td>\n",
       "      <td>1cb644ae688049b36de4187db4f3cc6532a90bbdfabb35...</td>\n",
       "      <td>b8dcabc5ed4723ef2321da505269e781ade92fd414fcc4...</td>\n",
       "      <td>3</td>\n",
       "      <td>3547831.0</td>\n",
       "      <td>3550743.0</td>\n",
       "      <td>c3a67200eaebd3d87534419d</td>\n",
       "    </tr>\n",
       "    <tr>\n",
       "      <th>998</th>\n",
       "      <td>259758d8ce7dab19c47c1cf9</td>\n",
       "      <td>6</td>\n",
       "      <td>166a8c34340bc933b112ae369c0bcb9ea43d0a8effb803...</td>\n",
       "      <td>ba7440e699693c0cf3f4f4cfe16e195a95c3837065d81a...</td>\n",
       "      <td>b8dcabc5ed4723ef2321da505269e781ade92fd414fcc4...</td>\n",
       "      <td>3</td>\n",
       "      <td>3547832.0</td>\n",
       "      <td>3550809.0</td>\n",
       "      <td>e884aa64a6e22a1779f6f410</td>\n",
       "    </tr>\n",
       "  </tbody>\n",
       "</table>\n",
       "<p>999 rows × 9 columns</p>\n",
       "</div>"
      ],
      "text/plain": [
       "                     job_name  task_name  \\\n",
       "0    54670e2998350a9f0e4868d5          6   \n",
       "1    54670e2998350a9f0e4868d5          6   \n",
       "2    54670e2998350a9f0e4868d5          6   \n",
       "3    54670e2998350a9f0e4868d5          6   \n",
       "4    54670e2998350a9f0e4868d5          6   \n",
       "..                        ...        ...   \n",
       "994  259758d8ce7dab19c47c1cf9          6   \n",
       "995  259758d8ce7dab19c47c1cf9          6   \n",
       "996  259758d8ce7dab19c47c1cf9          6   \n",
       "997  259758d8ce7dab19c47c1cf9          6   \n",
       "998  259758d8ce7dab19c47c1cf9          6   \n",
       "\n",
       "                                             inst_name  \\\n",
       "0    c47ee192deea8c5aa87d8d7c2e02120cd03f75304a69dd...   \n",
       "1    92759a73039692b2d3e0929cadf55f5b07b40d6582c36f...   \n",
       "2    b3e42abde4c35da06ff4746802b82678b1bf56b28efaa1...   \n",
       "3    d0f2e1f76ff463bcd08302370cc2f9bf0ec1333a3b25e3...   \n",
       "4    0243b1305fd38f228634b23f69de5ed5ce801360eeffdc...   \n",
       "..                                                 ...   \n",
       "994  d3c11b862634e6185c22d7c89fc08f667527b39779cb41...   \n",
       "995  a6812a028da978a3ab462f2ca15080b5c91799eb932cf2...   \n",
       "996  02e216e963305f5bf68e992721e2cf95d927bab59b1c04...   \n",
       "997  5f679bd45fd663ebe3f425102bff77290e9700765b8266...   \n",
       "998  166a8c34340bc933b112ae369c0bcb9ea43d0a8effb803...   \n",
       "\n",
       "                                           worker_name  \\\n",
       "0    05b1590648df3f4c6deea2496bbbefd4d3ae93347669f7...   \n",
       "1    cbc1bc591c53301bceafa44dc626288fd92d2fc5dca438...   \n",
       "2    09d41bf627188adc004b2db7c0a47578325952cc3340af...   \n",
       "3    1a631e8be3fd787c2891c15b9e9bac6df4f177efc9ec7b...   \n",
       "4    59aea81c00cccb5cd01ca2f7f72877d6bc73b427821986...   \n",
       "..                                                 ...   \n",
       "994  9f7742973dbe2b8d2b6bf1375abfd4e073f45450638fdc...   \n",
       "995  6909a44a6bbe9771cc32842680dca931c924aa1b48ae6c...   \n",
       "996  576c557d87df01c2a8d8533ecc7a067aa484710e8a23bb...   \n",
       "997  1cb644ae688049b36de4187db4f3cc6532a90bbdfabb35...   \n",
       "998  ba7440e699693c0cf3f4f4cfe16e195a95c3837065d81a...   \n",
       "\n",
       "                                               inst_id  status  start_time  \\\n",
       "0    68889727c2257f702108d185e5eed342a39807a2893d4b...       3   3272995.0   \n",
       "1    68889727c2257f702108d185e5eed342a39807a2893d4b...       3   3272995.0   \n",
       "2    68889727c2257f702108d185e5eed342a39807a2893d4b...       3   3272995.0   \n",
       "3    68889727c2257f702108d185e5eed342a39807a2893d4b...       3   3272995.0   \n",
       "4    68889727c2257f702108d185e5eed342a39807a2893d4b...       3   3272995.0   \n",
       "..                                                 ...     ...         ...   \n",
       "994  b8dcabc5ed4723ef2321da505269e781ade92fd414fcc4...       3   3547830.0   \n",
       "995  b8dcabc5ed4723ef2321da505269e781ade92fd414fcc4...       3   3547831.0   \n",
       "996  b8dcabc5ed4723ef2321da505269e781ade92fd414fcc4...       3   3547832.0   \n",
       "997  b8dcabc5ed4723ef2321da505269e781ade92fd414fcc4...       3   3547831.0   \n",
       "998  b8dcabc5ed4723ef2321da505269e781ade92fd414fcc4...       3   3547832.0   \n",
       "\n",
       "      end_time                   machine  \n",
       "0    3273065.0  165261853e188ca69c4fbcdf  \n",
       "1    3273056.0  31dbf829549b10917e7193a6  \n",
       "2    3273067.0  31dbf829549b10917e7193a6  \n",
       "3    3273058.0  3765d45e2eca88d1d1da7cef  \n",
       "4    3273059.0  c0d6760f6248ea8260e36fa5  \n",
       "..         ...                       ...  \n",
       "994  3550678.0  b2897296e9402cce1ac00e73  \n",
       "995  3550928.0  64ce8199950afc63fd21fe96  \n",
       "996  3550654.0  6e5816c3b9334f11d9e215b1  \n",
       "997  3550743.0  c3a67200eaebd3d87534419d  \n",
       "998  3550809.0  e884aa64a6e22a1779f6f410  \n",
       "\n",
       "[999 rows x 9 columns]"
      ]
     },
     "execution_count": 23,
     "metadata": {},
     "output_type": "execute_result"
    }
   ],
   "source": [
    "df"
   ]
  },
  {
   "cell_type": "code",
   "execution_count": 24,
   "metadata": {
    "colab": {
     "base_uri": "https://localhost:8080/"
    },
    "id": "nXzMJlPAd3hu",
    "outputId": "f29c4625-ce7a-4fa3-b6ad-d0575cc22090"
   },
   "outputs": [
    {
     "data": {
      "text/plain": [
       "LinearRegression()"
      ]
     },
     "execution_count": 24,
     "metadata": {},
     "output_type": "execute_result"
    }
   ],
   "source": [
    "lin_reg_mod.fit(x_train, y_train)"
   ]
  },
  {
   "cell_type": "code",
   "execution_count": 25,
   "metadata": {
    "id": "CT14aoivePie"
   },
   "outputs": [],
   "source": [
    "pred = lin_reg_mod.predict(x_test)"
   ]
  },
  {
   "cell_type": "code",
   "execution_count": 26,
   "metadata": {
    "id": "dF26keDolap0"
   },
   "outputs": [],
   "source": [
    "test_set_rmse = (np.sqrt(mean_squared_error(y_test, pred)))\n",
    "\n",
    "test_set_r2 = r2_score(y_test, pred)"
   ]
  },
  {
   "cell_type": "code",
   "execution_count": 27,
   "metadata": {
    "colab": {
     "base_uri": "https://localhost:8080/"
    },
    "id": "f7PJDL0Ilgvr",
    "outputId": "83c67fda-b9d8-4c10-e7e1-31b460ccb549"
   },
   "outputs": [
    {
     "name": "stdout",
     "output_type": "stream",
     "text": [
      "520888.05964911217\n",
      "0.7259932413186234\n"
     ]
    }
   ],
   "source": [
    "print(test_set_rmse)\n",
    "print(test_set_r2)"
   ]
  },
  {
   "cell_type": "code",
   "execution_count": 28,
   "metadata": {
    "id": "IXd2IOGUmu9M"
   },
   "outputs": [],
   "source": [
    " df_prediction = pnd.DataFrame({'Actual': y_test.squeeze(), 'Predicted': pred.squeeze()})"
   ]
  },
  {
   "cell_type": "code",
   "execution_count": 29,
   "metadata": {
    "colab": {
     "base_uri": "https://localhost:8080/",
     "height": 424
    },
    "id": "lEjMtnOCnNdh",
    "outputId": "7b67e455-b220-43a5-f369-4b3fa3bedc45"
   },
   "outputs": [
    {
     "data": {
      "text/html": [
       "<div>\n",
       "<style scoped>\n",
       "    .dataframe tbody tr th:only-of-type {\n",
       "        vertical-align: middle;\n",
       "    }\n",
       "\n",
       "    .dataframe tbody tr th {\n",
       "        vertical-align: top;\n",
       "    }\n",
       "\n",
       "    .dataframe thead th {\n",
       "        text-align: right;\n",
       "    }\n",
       "</style>\n",
       "<table border=\"1\" class=\"dataframe\">\n",
       "  <thead>\n",
       "    <tr style=\"text-align: right;\">\n",
       "      <th></th>\n",
       "      <th>Actual</th>\n",
       "      <th>Predicted</th>\n",
       "    </tr>\n",
       "  </thead>\n",
       "  <tbody>\n",
       "    <tr>\n",
       "      <th>2</th>\n",
       "      <td>3273067.0</td>\n",
       "      <td>3.306568e+06</td>\n",
       "    </tr>\n",
       "    <tr>\n",
       "      <th>785</th>\n",
       "      <td>1459299.0</td>\n",
       "      <td>1.467725e+06</td>\n",
       "    </tr>\n",
       "    <tr>\n",
       "      <th>57</th>\n",
       "      <td>3274734.0</td>\n",
       "      <td>3.306607e+06</td>\n",
       "    </tr>\n",
       "    <tr>\n",
       "      <th>496</th>\n",
       "      <td>1442820.0</td>\n",
       "      <td>3.470124e+06</td>\n",
       "    </tr>\n",
       "    <tr>\n",
       "      <th>611</th>\n",
       "      <td>1459282.0</td>\n",
       "      <td>1.467725e+06</td>\n",
       "    </tr>\n",
       "    <tr>\n",
       "      <th>...</th>\n",
       "      <td>...</td>\n",
       "      <td>...</td>\n",
       "    </tr>\n",
       "    <tr>\n",
       "      <th>41</th>\n",
       "      <td>3274694.0</td>\n",
       "      <td>3.306607e+06</td>\n",
       "    </tr>\n",
       "    <tr>\n",
       "      <th>425</th>\n",
       "      <td>3278734.0</td>\n",
       "      <td>1.874425e+06</td>\n",
       "    </tr>\n",
       "    <tr>\n",
       "      <th>106</th>\n",
       "      <td>3274697.0</td>\n",
       "      <td>3.306607e+06</td>\n",
       "    </tr>\n",
       "    <tr>\n",
       "      <th>80</th>\n",
       "      <td>3274716.0</td>\n",
       "      <td>3.306607e+06</td>\n",
       "    </tr>\n",
       "    <tr>\n",
       "      <th>471</th>\n",
       "      <td>3319771.0</td>\n",
       "      <td>3.307783e+06</td>\n",
       "    </tr>\n",
       "  </tbody>\n",
       "</table>\n",
       "<p>250 rows × 2 columns</p>\n",
       "</div>"
      ],
      "text/plain": [
       "        Actual     Predicted\n",
       "2    3273067.0  3.306568e+06\n",
       "785  1459299.0  1.467725e+06\n",
       "57   3274734.0  3.306607e+06\n",
       "496  1442820.0  3.470124e+06\n",
       "611  1459282.0  1.467725e+06\n",
       "..         ...           ...\n",
       "41   3274694.0  3.306607e+06\n",
       "425  3278734.0  1.874425e+06\n",
       "106  3274697.0  3.306607e+06\n",
       "80   3274716.0  3.306607e+06\n",
       "471  3319771.0  3.307783e+06\n",
       "\n",
       "[250 rows x 2 columns]"
      ]
     },
     "execution_count": 29,
     "metadata": {},
     "output_type": "execute_result"
    }
   ],
   "source": [
    "df_prediction"
   ]
  },
  {
   "cell_type": "code",
   "execution_count": 30,
   "metadata": {
    "colab": {
     "base_uri": "https://localhost:8080/",
     "height": 307
    },
    "id": "amQaUwdznR55",
    "outputId": "9f363200-7832-4996-8f7d-c1a7955ae1ef"
   },
   "outputs": [
    {
     "data": {
      "text/plain": [
       "<AxesSubplot:xlabel='Actual', ylabel='Predicted'>"
      ]
     },
     "execution_count": 30,
     "metadata": {},
     "output_type": "execute_result"
    },
    {
     "data": {
      "image/png": "[encoded data removed]",
      "text/plain": [
       "<Figure size 432x288 with 1 Axes>"
      ]
     },
     "metadata": {
      "needs_background": "light"
     },
     "output_type": "display_data"
    }
   ],
   "source": [
    "import seaborn as sb\n",
    "sb.regplot(x = \"Actual\",\n",
    "            y = \"Predicted\", \n",
    "            ci = None,\n",
    "            data = df_prediction)"
   ]
  },
  {
   "cell_type": "code",
   "execution_count": 31,
   "metadata": {
    "id": "kICQLAm9nmgp"
   },
   "outputs": [],
   "source": [
    "SEED = 42\n",
    "X_train, X_test, y_train, y_test = train_test_split(x, y, test_size=0.25, random_state=SEED)"
   ]
  },
  {
   "cell_type": "markdown",
   "metadata": {},
   "source": [
    "#Random Forest"
   ]
  },
  {
   "cell_type": "code",
   "execution_count": 32,
   "metadata": {
    "id": "84zbPgXkowjf"
   },
   "outputs": [],
   "source": [
    "from sklearn.ensemble import RandomForestRegressor"
   ]
  },
  {
   "cell_type": "code",
   "execution_count": 33,
   "metadata": {
    "colab": {
     "base_uri": "https://localhost:8080/"
    },
    "id": "YLHiFBf3oLIY",
    "outputId": "35f4e49b-3559-4a90-e536-3bfac6c0306a"
   },
   "outputs": [
    {
     "name": "stderr",
     "output_type": "stream",
     "text": [
      "<ipython-input-33-ad1b426d6a42>:3: DataConversionWarning: A column-vector y was passed when a 1d array was expected. Please change the shape of y to (n_samples,), for example using ravel().\n",
      "  RF.fit(x_train, y_train)\n"
     ]
    }
   ],
   "source": [
    "RF = RandomForestRegressor(n_estimators=20, max_depth=3,  random_state=SEED)\n",
    "\n",
    "RF.fit(x_train, y_train)\n",
    "y_pred = RF.predict(x_test)"
   ]
  },
  {
   "cell_type": "code",
   "execution_count": 34,
   "metadata": {
    "colab": {
     "base_uri": "https://localhost:8080/",
     "height": 357
    },
    "id": "YVOLoGYios7m",
    "outputId": "a289e3fc-c174-4c79-b2e3-991cb89c0a34"
   },
   "outputs": [
    {
     "data": {
      "image/png": "[encoded data removed]",
      "text/plain": [
       "<Figure size 1080x432 with 1 Axes>"
      ]
     },
     "metadata": {
      "needs_background": "light"
     },
     "output_type": "display_data"
    }
   ],
   "source": [
    "from sklearn import tree\n",
    "\n",
    "features = x.columns\n",
    "first_tree = RF.estimators_[0]\n",
    "\n",
    "plt.figure(figsize=(15,6))\n",
    "tree.plot_tree(first_tree,\n",
    "               feature_names=features,\n",
    "               fontsize=8, \n",
    "               filled=True, \n",
    "               rounded=True);"
   ]
  },
  {
   "cell_type": "code",
   "execution_count": 35,
   "metadata": {
    "colab": {
     "base_uri": "https://localhost:8080/"
    },
    "id": "2a85dxQwo___",
    "outputId": "df33d64c-0e39-4406-82a9-e77fe5ee95b2"
   },
   "outputs": [
    {
     "name": "stdout",
     "output_type": "stream",
     "text": [
      "Mean Absolute Error: 940338.9018500708\n",
      "Mean Squared Error: 976257452855.9856\n",
      "Root Mean Squared Error: 988057.4137447609\n"
     ]
    }
   ],
   "source": [
    "from sklearn.metrics import mean_absolute_error, mean_squared_error\n",
    "\n",
    "print('Mean Absolute Error:', mean_absolute_error(y_test, y_pred))\n",
    "print('Mean Squared Error:', mean_squared_error(y_test, y_pred))\n",
    "print('Root Mean Squared Error:', np.sqrt(mean_squared_error(y_test, y_pred)))"
   ]
  },
  {
   "cell_type": "code",
   "execution_count": 36,
   "metadata": {
    "colab": {
     "base_uri": "https://localhost:8080/",
     "height": 265
    },
    "id": "jpgbDmgXpm9u",
    "outputId": "8d0703dc-b509-4ae9-d259-b6f020f4f69a"
   },
   "outputs": [
    {
     "data": {
      "image/png": "[encoded data removed]",
      "text/plain": [
       "<Figure size 432x288 with 1 Axes>"
      ]
     },
     "metadata": {
      "needs_background": "light"
     },
     "output_type": "display_data"
    }
   ],
   "source": [
    "x = np.random.randint(low=1, high=10, size=25)\n",
    "\n",
    "plt.plot(x, color = 'blue', linewidth=3, linestyle='-.')\n",
    "plt.show()"
   ]
  },
  {
   "cell_type": "code",
   "execution_count": 37,
   "metadata": {
    "id": "cPTKJ2hTO3ch"
   },
   "outputs": [],
   "source": [
    "df[\"status\"] = df[\"status\"].astype(\"category\")"
   ]
  },
  {
   "cell_type": "code",
   "execution_count": 38,
   "metadata": {
    "colab": {
     "base_uri": "https://localhost:8080/"
    },
    "id": "uUfZoAOgRBFv",
    "outputId": "54e3b283-a2d9-40cf-dc1f-31276fcbf214"
   },
   "outputs": [
    {
     "data": {
      "text/plain": [
       "[3, 0, 2, 1]\n",
       "Categories (4, int64): [3, 0, 2, 1]"
      ]
     },
     "execution_count": 38,
     "metadata": {},
     "output_type": "execute_result"
    }
   ],
   "source": [
    "df.status.unique()"
   ]
  },
  {
   "cell_type": "code",
   "execution_count": 39,
   "metadata": {
    "id": "-0rOpKBbP2GP"
   },
   "outputs": [],
   "source": [
    "x = df[['task_name','start_time','end_time']]\n",
    "y = df[['status']]"
   ]
  },
  {
   "cell_type": "code",
   "execution_count": 40,
   "metadata": {
    "id": "dH5uCe7AQLaP"
   },
   "outputs": [],
   "source": [
    "x_train, x_test, y_train, y_test = train_test_split(x, y, test_size = 0.25, random_state=9)"
   ]
  },
  {
   "cell_type": "code",
   "execution_count": 43,
   "metadata": {
    "id": "GmVvoYWcrAKm"
   },
   "outputs": [],
   "source": [
    "from tensorflow.keras.models import Sequential \n",
    "from tensorflow.keras.layers import InputLayer, Conv1D, Dense, Flatten, MaxPooling1D \n",
    "from keras.layers.convolutional import Conv1D\n",
    "from tensorflow.keras.optimizers import Adam "
   ]
  },
  {
   "cell_type": "code",
   "execution_count": 44,
   "metadata": {
    "colab": {
     "base_uri": "https://localhost:8080/"
    },
    "id": "pdvb93bDRiu1",
    "outputId": "7a9a642d-2ab9-4ddf-e358-3c1a2fc03fc5"
   },
   "outputs": [
    {
     "name": "stdout",
     "output_type": "stream",
     "text": [
      "Epoch 1/50\n",
      "24/24 [==============================] - 1s 1ms/step - loss: 0.0000e+00 - accuracy: 0.0267 \n",
      "Epoch 2/50\n",
      "24/24 [==============================] - 0s 1ms/step - loss: 0.0000e+00 - accuracy: 0.0267\n",
      "Epoch 3/50\n",
      "24/24 [==============================] - 0s 1ms/step - loss: 0.0000e+00 - accuracy: 0.0267\n",
      "Epoch 4/50\n",
      "24/24 [==============================] - 0s 1ms/step - loss: 0.0000e+00 - accuracy: 0.0267\n",
      "Epoch 5/50\n",
      "24/24 [==============================] - 0s 1ms/step - loss: 0.0000e+00 - accuracy: 0.0267\n",
      "Epoch 6/50\n",
      "24/24 [==============================] - 0s 1ms/step - loss: 0.0000e+00 - accuracy: 0.0267\n",
      "Epoch 7/50\n",
      "24/24 [==============================] - 0s 1ms/step - loss: 0.0000e+00 - accuracy: 0.0267\n",
      "Epoch 8/50\n",
      "24/24 [==============================] - 0s 999us/step - loss: 0.0000e+00 - accuracy: 0.0267\n",
      "Epoch 9/50\n",
      "24/24 [==============================] - 0s 1ms/step - loss: 0.0000e+00 - accuracy: 0.0267\n",
      "Epoch 10/50\n",
      "24/24 [==============================] - 0s 1ms/step - loss: 0.0000e+00 - accuracy: 0.0267\n",
      "Epoch 11/50\n",
      "24/24 [==============================] - 0s 1ms/step - loss: 0.0000e+00 - accuracy: 0.0267\n",
      "Epoch 12/50\n",
      "24/24 [==============================] - 0s 1ms/step - loss: 0.0000e+00 - accuracy: 0.0267\n",
      "Epoch 13/50\n",
      "24/24 [==============================] - 0s 1ms/step - loss: 0.0000e+00 - accuracy: 0.0267\n",
      "Epoch 14/50\n",
      "24/24 [==============================] - 0s 1ms/step - loss: 0.0000e+00 - accuracy: 0.0267\n",
      "Epoch 15/50\n",
      "24/24 [==============================] - 0s 1ms/step - loss: 0.0000e+00 - accuracy: 0.0267\n",
      "Epoch 16/50\n",
      "24/24 [==============================] - 0s 1ms/step - loss: 0.0000e+00 - accuracy: 0.0267\n",
      "Epoch 17/50\n",
      "24/24 [==============================] - 0s 2ms/step - loss: 0.0000e+00 - accuracy: 0.0267\n",
      "Epoch 18/50\n",
      "24/24 [==============================] - 0s 2ms/step - loss: 0.0000e+00 - accuracy: 0.0267\n",
      "Epoch 19/50\n",
      "24/24 [==============================] - 0s 1ms/step - loss: 0.0000e+00 - accuracy: 0.0267\n",
      "Epoch 20/50\n",
      "24/24 [==============================] - 0s 1ms/step - loss: 0.0000e+00 - accuracy: 0.0267\n",
      "Epoch 21/50\n",
      "24/24 [==============================] - 0s 1ms/step - loss: 0.0000e+00 - accuracy: 0.0267\n",
      "Epoch 22/50\n",
      "24/24 [==============================] - 0s 1ms/step - loss: 0.0000e+00 - accuracy: 0.0267\n",
      "Epoch 23/50\n",
      "24/24 [==============================] - 0s 1ms/step - loss: 0.0000e+00 - accuracy: 0.0267\n",
      "Epoch 24/50\n",
      "24/24 [==============================] - 0s 1ms/step - loss: 0.0000e+00 - accuracy: 0.0267\n",
      "Epoch 25/50\n",
      "24/24 [==============================] - 0s 1ms/step - loss: 0.0000e+00 - accuracy: 0.0267\n",
      "Epoch 26/50\n",
      "24/24 [==============================] - 0s 1ms/step - loss: 0.0000e+00 - accuracy: 0.0267\n",
      "Epoch 27/50\n",
      "24/24 [==============================] - 0s 1ms/step - loss: 0.0000e+00 - accuracy: 0.0267\n",
      "Epoch 28/50\n",
      "24/24 [==============================] - 0s 1ms/step - loss: 0.0000e+00 - accuracy: 0.0267\n",
      "Epoch 29/50\n",
      "24/24 [==============================] - 0s 1ms/step - loss: 0.0000e+00 - accuracy: 0.0267\n",
      "Epoch 30/50\n",
      "24/24 [==============================] - 0s 1ms/step - loss: 0.0000e+00 - accuracy: 0.0267\n",
      "Epoch 31/50\n",
      "24/24 [==============================] - 0s 1ms/step - loss: 0.0000e+00 - accuracy: 0.0267\n",
      "Epoch 32/50\n",
      "24/24 [==============================] - 0s 999us/step - loss: 0.0000e+00 - accuracy: 0.0267\n",
      "Epoch 33/50\n",
      "24/24 [==============================] - 0s 1ms/step - loss: 0.0000e+00 - accuracy: 0.0267\n",
      "Epoch 34/50\n",
      "24/24 [==============================] - 0s 1ms/step - loss: 0.0000e+00 - accuracy: 0.0267\n",
      "Epoch 35/50\n",
      "24/24 [==============================] - 0s 1ms/step - loss: 0.0000e+00 - accuracy: 0.0267\n",
      "Epoch 36/50\n",
      "24/24 [==============================] - 0s 1ms/step - loss: 0.0000e+00 - accuracy: 0.0267\n",
      "Epoch 37/50\n",
      "24/24 [==============================] - 0s 1ms/step - loss: 0.0000e+00 - accuracy: 0.0267\n",
      "Epoch 38/50\n",
      "24/24 [==============================] - 0s 1ms/step - loss: 0.0000e+00 - accuracy: 0.0267\n",
      "Epoch 39/50\n",
      "24/24 [==============================] - 0s 1ms/step - loss: 0.0000e+00 - accuracy: 0.0267\n",
      "Epoch 40/50\n",
      "24/24 [==============================] - 0s 1ms/step - loss: 0.0000e+00 - accuracy: 0.0267\n",
      "Epoch 41/50\n",
      "24/24 [==============================] - 0s 1ms/step - loss: 0.0000e+00 - accuracy: 0.0267\n",
      "Epoch 42/50\n",
      "24/24 [==============================] - 0s 1ms/step - loss: 0.0000e+00 - accuracy: 0.0267\n",
      "Epoch 43/50\n",
      "24/24 [==============================] - 0s 1ms/step - loss: 0.0000e+00 - accuracy: 0.0267\n",
      "Epoch 44/50\n",
      "24/24 [==============================] - 0s 1ms/step - loss: 0.0000e+00 - accuracy: 0.0267\n",
      "Epoch 45/50\n",
      "24/24 [==============================] - 0s 1ms/step - loss: 0.0000e+00 - accuracy: 0.0267\n",
      "Epoch 46/50\n",
      "24/24 [==============================] - 0s 1ms/step - loss: 0.0000e+00 - accuracy: 0.0267\n",
      "Epoch 47/50\n",
      "24/24 [==============================] - 0s 1ms/step - loss: 0.0000e+00 - accuracy: 0.0267\n",
      "Epoch 48/50\n",
      "24/24 [==============================] - 0s 1ms/step - loss: 0.0000e+00 - accuracy: 0.0267\n",
      "Epoch 49/50\n",
      "24/24 [==============================] - 0s 999us/step - loss: 0.0000e+00 - accuracy: 0.0267\n",
      "Epoch 50/50\n",
      "24/24 [==============================] - 0s 1ms/step - loss: 0.0000e+00 - accuracy: 0.0267\n",
      "8/8 [==============================] - 0s 1ms/step - loss: 0.0000e+00 - accuracy: 0.0400\n",
      "\n",
      "accuracy: 4.00%\n"
     ]
    }
   ],
   "source": [
    "from keras.models import Sequential \n",
    "from keras.layers import Dense \n",
    "  \n",
    "model_cnn = Sequential() \n",
    "model_cnn.add(Dense(12, input_dim=3, activation='relu')) \n",
    "model_cnn.add(Dense(3, activation='relu')) \n",
    "model_cnn.add(Dense(1, activation='softmax'))  \n",
    "model_cnn.compile(loss='categorical_crossentropy', optimizer='adam', metrics=['accuracy']) \n",
    "model_cnn.fit(x_train, y_train, epochs=50, batch_size=32) \n",
    "scores = model_cnn.evaluate(x_test, y_test) \n",
    "print(\"\\n%s: %.2f%%\" % (model_cnn.metrics_names[1], scores[1]*100)) "
   ]
  },
  {
   "cell_type": "code",
   "execution_count": null,
   "metadata": {
    "id": "GgkqrEjLRixh"
   },
   "outputs": [],
   "source": []
  },
  {
   "cell_type": "code",
   "execution_count": null,
   "metadata": {
    "id": "3zlQvj6bQ4HM"
   },
   "outputs": [],
   "source": []
  }
 ],
 "metadata": {
  "colab": {
   "provenance": []
  },
  "kernelspec": {
   "display_name": "Python 3",
   "language": "python",
   "name": "python3"
  },
  "language_info": {
   "codemirror_mode": {
    "name": "ipython",
    "version": 3
   },
   "file_extension": ".py",
   "mimetype": "text/x-python",
   "name": "python",
   "nbconvert_exporter": "python",
   "pygments_lexer": "ipython3",
   "version": "3.8.5"
  }
 },
 "nbformat": 4,
 "nbformat_minor": 1
}
